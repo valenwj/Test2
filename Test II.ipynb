{
 "cells": [
  {
   "cell_type": "markdown",
   "metadata": {},
   "source": [
    "# What drives the price of a car?\n",
    "\n",
    "![](images/kurt.jpeg)"
   ]
  },
  {
   "cell_type": "markdown",
   "metadata": {},
   "source": [
    "**OVERVIEW**\n",
    "\n",
    "In this application, you will explore a dataset from kaggle. The original dataset contained information on 3 million used cars. The provided dataset contains information on 426K cars to ensure speed of processing.  Your goal is to understand what factors make a car more or less expensive.  As a result of your analysis, you should provide clear recommendations to your client -- a used car dealership -- as to what consumers value in a used car."
   ]
  },
  {
   "cell_type": "markdown",
   "metadata": {},
   "source": [
    "### CRISP-DM Framework\n",
    "\n",
    "<center>\n",
    "    <img src = images/crisp.png width = 50%/>\n",
    "</center>\n",
    "\n",
    "\n",
    "To frame the task, throughout our practical applications we will refer back to a standard process in industry for data projects called CRISP-DM.  This process provides a framework for working through a data problem.  Your first step in this application will be to read through a brief overview of CRISP-DM [here](https://mo-pcco.s3.us-east-1.amazonaws.com/BH-PCMLAI/module_11/readings_starter.zip).  After reading the overview, answer the questions below."
   ]
  },
  {
   "cell_type": "markdown",
   "metadata": {},
   "source": [
    "### Business Understanding\n",
    "\n",
    "From a business perspective, we are tasked with identifying key drivers for used car prices.  In the CRISP-DM overview, we are asked to convert this business framing to a data problem definition.  Using a few sentences, reframe the task as a data task with the appropriate technical vocabulary. "
   ]
  },
  {
   "cell_type": "markdown",
   "metadata": {},
   "source": [
    "The business objective of this study is the identification of the most importants features that make a car more or less expensive. This will provide the used car dealership owner with key information to increase its sales. "
   ]
  },
  {
   "cell_type": "markdown",
   "metadata": {},
   "source": [
    "Resources available to work on this project are: 1) Data Scientist in training, 2) softwate and hardware: Lenovo Laptop and  python notebook and 3) Data containing information on 3 million used cars.\n",
    "Risk: The principal risk from this analysis is the amount of missing information for some features could have an impact on the resulting recommendation."
   ]
  },
  {
   "cell_type": "markdown",
   "metadata": {},
   "source": [
    "Data mining goals is predicting factors that makes a car more or less expensive. Identifying the factors that impacts the car price"
   ]
  },
  {
   "cell_type": "markdown",
   "metadata": {},
   "source": [
    "The Steps for this project: 1) Define Business objective 2) Data Understanding 3) Preprare the data for the study 4) build the prediction model and identify the critical features 5) assess the model recommendations 6) provide the results to the customer "
   ]
  },
  {
   "cell_type": "markdown",
   "metadata": {},
   "source": [
    "### Data Understanding\n",
    "\n",
    "After considering the business understanding, we want to get familiar with our data.  Write down some steps that you would take to get to know the dataset and identify any quality issues within.  Take time to get to know the dataset and explore what information it contains and how this could be used to inform your business understanding."
   ]
  },
  {
   "cell_type": "code",
   "execution_count": 8,
   "metadata": {},
   "outputs": [],
   "source": [
    "import matplotlib.pyplot as plt\n",
    "import pandas as pd\n",
    "import numpy as np\n",
    "import seaborn as sns\n",
    "import plotly.express as px\n",
    "from sklearn.preprocessing import PolynomialFeatures, OneHotEncoder, OrdinalEncoder\n",
    "from sklearn.compose import make_column_transformer, make_column_selector, ColumnTransformer\n",
    "from sklearn.linear_model import LinearRegression, Lasso\n",
    "from sklearn.preprocessing import StandardScaler, PolynomialFeatures\n",
    "from sklearn.pipeline import Pipeline\n",
    "from sklearn.feature_selection import SequentialFeatureSelector, SelectFromModel\n",
    "from sklearn.metrics import mean_squared_error\n",
    "from sklearn.model_selection import train_test_split, GridSearchCV\n",
    "from sklearn.linear_model import Ridge\n",
    "from sklearn import set_config\n",
    "set_config(display=\"diagram\")\n",
    "import warnings\n"
   ]
  },
  {
   "cell_type": "markdown",
   "metadata": {},
   "source": [
    "The original dataset contained information on 3 million used cars. The provided dataset contains information on 426K cars to ensure get familiar with the data."
   ]
  },
  {
   "cell_type": "code",
   "execution_count": 9,
   "metadata": {},
   "outputs": [
    {
     "data": {
      "text/html": [
       "<div>\n",
       "<style scoped>\n",
       "    .dataframe tbody tr th:only-of-type {\n",
       "        vertical-align: middle;\n",
       "    }\n",
       "\n",
       "    .dataframe tbody tr th {\n",
       "        vertical-align: top;\n",
       "    }\n",
       "\n",
       "    .dataframe thead th {\n",
       "        text-align: right;\n",
       "    }\n",
       "</style>\n",
       "<table border=\"1\" class=\"dataframe\">\n",
       "  <thead>\n",
       "    <tr style=\"text-align: right;\">\n",
       "      <th></th>\n",
       "      <th>id</th>\n",
       "      <th>region</th>\n",
       "      <th>price</th>\n",
       "      <th>year</th>\n",
       "      <th>manufacturer</th>\n",
       "      <th>model</th>\n",
       "      <th>condition</th>\n",
       "      <th>cylinders</th>\n",
       "      <th>fuel</th>\n",
       "      <th>odometer</th>\n",
       "      <th>title_status</th>\n",
       "      <th>transmission</th>\n",
       "      <th>VIN</th>\n",
       "      <th>drive</th>\n",
       "      <th>size</th>\n",
       "      <th>type</th>\n",
       "      <th>paint_color</th>\n",
       "      <th>state</th>\n",
       "    </tr>\n",
       "  </thead>\n",
       "  <tbody>\n",
       "    <tr>\n",
       "      <th>0</th>\n",
       "      <td>7222695916</td>\n",
       "      <td>prescott</td>\n",
       "      <td>6000</td>\n",
       "      <td>NaN</td>\n",
       "      <td>NaN</td>\n",
       "      <td>NaN</td>\n",
       "      <td>NaN</td>\n",
       "      <td>NaN</td>\n",
       "      <td>NaN</td>\n",
       "      <td>NaN</td>\n",
       "      <td>NaN</td>\n",
       "      <td>NaN</td>\n",
       "      <td>NaN</td>\n",
       "      <td>NaN</td>\n",
       "      <td>NaN</td>\n",
       "      <td>NaN</td>\n",
       "      <td>NaN</td>\n",
       "      <td>az</td>\n",
       "    </tr>\n",
       "    <tr>\n",
       "      <th>1</th>\n",
       "      <td>7218891961</td>\n",
       "      <td>fayetteville</td>\n",
       "      <td>11900</td>\n",
       "      <td>NaN</td>\n",
       "      <td>NaN</td>\n",
       "      <td>NaN</td>\n",
       "      <td>NaN</td>\n",
       "      <td>NaN</td>\n",
       "      <td>NaN</td>\n",
       "      <td>NaN</td>\n",
       "      <td>NaN</td>\n",
       "      <td>NaN</td>\n",
       "      <td>NaN</td>\n",
       "      <td>NaN</td>\n",
       "      <td>NaN</td>\n",
       "      <td>NaN</td>\n",
       "      <td>NaN</td>\n",
       "      <td>ar</td>\n",
       "    </tr>\n",
       "    <tr>\n",
       "      <th>2</th>\n",
       "      <td>7221797935</td>\n",
       "      <td>florida keys</td>\n",
       "      <td>21000</td>\n",
       "      <td>NaN</td>\n",
       "      <td>NaN</td>\n",
       "      <td>NaN</td>\n",
       "      <td>NaN</td>\n",
       "      <td>NaN</td>\n",
       "      <td>NaN</td>\n",
       "      <td>NaN</td>\n",
       "      <td>NaN</td>\n",
       "      <td>NaN</td>\n",
       "      <td>NaN</td>\n",
       "      <td>NaN</td>\n",
       "      <td>NaN</td>\n",
       "      <td>NaN</td>\n",
       "      <td>NaN</td>\n",
       "      <td>fl</td>\n",
       "    </tr>\n",
       "    <tr>\n",
       "      <th>3</th>\n",
       "      <td>7222270760</td>\n",
       "      <td>worcester / central MA</td>\n",
       "      <td>1500</td>\n",
       "      <td>NaN</td>\n",
       "      <td>NaN</td>\n",
       "      <td>NaN</td>\n",
       "      <td>NaN</td>\n",
       "      <td>NaN</td>\n",
       "      <td>NaN</td>\n",
       "      <td>NaN</td>\n",
       "      <td>NaN</td>\n",
       "      <td>NaN</td>\n",
       "      <td>NaN</td>\n",
       "      <td>NaN</td>\n",
       "      <td>NaN</td>\n",
       "      <td>NaN</td>\n",
       "      <td>NaN</td>\n",
       "      <td>ma</td>\n",
       "    </tr>\n",
       "    <tr>\n",
       "      <th>4</th>\n",
       "      <td>7210384030</td>\n",
       "      <td>greensboro</td>\n",
       "      <td>4900</td>\n",
       "      <td>NaN</td>\n",
       "      <td>NaN</td>\n",
       "      <td>NaN</td>\n",
       "      <td>NaN</td>\n",
       "      <td>NaN</td>\n",
       "      <td>NaN</td>\n",
       "      <td>NaN</td>\n",
       "      <td>NaN</td>\n",
       "      <td>NaN</td>\n",
       "      <td>NaN</td>\n",
       "      <td>NaN</td>\n",
       "      <td>NaN</td>\n",
       "      <td>NaN</td>\n",
       "      <td>NaN</td>\n",
       "      <td>nc</td>\n",
       "    </tr>\n",
       "    <tr>\n",
       "      <th>...</th>\n",
       "      <td>...</td>\n",
       "      <td>...</td>\n",
       "      <td>...</td>\n",
       "      <td>...</td>\n",
       "      <td>...</td>\n",
       "      <td>...</td>\n",
       "      <td>...</td>\n",
       "      <td>...</td>\n",
       "      <td>...</td>\n",
       "      <td>...</td>\n",
       "      <td>...</td>\n",
       "      <td>...</td>\n",
       "      <td>...</td>\n",
       "      <td>...</td>\n",
       "      <td>...</td>\n",
       "      <td>...</td>\n",
       "      <td>...</td>\n",
       "      <td>...</td>\n",
       "    </tr>\n",
       "    <tr>\n",
       "      <th>426875</th>\n",
       "      <td>7301591192</td>\n",
       "      <td>wyoming</td>\n",
       "      <td>23590</td>\n",
       "      <td>2019.0</td>\n",
       "      <td>nissan</td>\n",
       "      <td>maxima s sedan 4d</td>\n",
       "      <td>good</td>\n",
       "      <td>6 cylinders</td>\n",
       "      <td>gas</td>\n",
       "      <td>32226.0</td>\n",
       "      <td>clean</td>\n",
       "      <td>other</td>\n",
       "      <td>1N4AA6AV6KC367801</td>\n",
       "      <td>fwd</td>\n",
       "      <td>NaN</td>\n",
       "      <td>sedan</td>\n",
       "      <td>NaN</td>\n",
       "      <td>wy</td>\n",
       "    </tr>\n",
       "    <tr>\n",
       "      <th>426876</th>\n",
       "      <td>7301591187</td>\n",
       "      <td>wyoming</td>\n",
       "      <td>30590</td>\n",
       "      <td>2020.0</td>\n",
       "      <td>volvo</td>\n",
       "      <td>s60 t5 momentum sedan 4d</td>\n",
       "      <td>good</td>\n",
       "      <td>NaN</td>\n",
       "      <td>gas</td>\n",
       "      <td>12029.0</td>\n",
       "      <td>clean</td>\n",
       "      <td>other</td>\n",
       "      <td>7JR102FKXLG042696</td>\n",
       "      <td>fwd</td>\n",
       "      <td>NaN</td>\n",
       "      <td>sedan</td>\n",
       "      <td>red</td>\n",
       "      <td>wy</td>\n",
       "    </tr>\n",
       "    <tr>\n",
       "      <th>426877</th>\n",
       "      <td>7301591147</td>\n",
       "      <td>wyoming</td>\n",
       "      <td>34990</td>\n",
       "      <td>2020.0</td>\n",
       "      <td>cadillac</td>\n",
       "      <td>xt4 sport suv 4d</td>\n",
       "      <td>good</td>\n",
       "      <td>NaN</td>\n",
       "      <td>diesel</td>\n",
       "      <td>4174.0</td>\n",
       "      <td>clean</td>\n",
       "      <td>other</td>\n",
       "      <td>1GYFZFR46LF088296</td>\n",
       "      <td>NaN</td>\n",
       "      <td>NaN</td>\n",
       "      <td>hatchback</td>\n",
       "      <td>white</td>\n",
       "      <td>wy</td>\n",
       "    </tr>\n",
       "    <tr>\n",
       "      <th>426878</th>\n",
       "      <td>7301591140</td>\n",
       "      <td>wyoming</td>\n",
       "      <td>28990</td>\n",
       "      <td>2018.0</td>\n",
       "      <td>lexus</td>\n",
       "      <td>es 350 sedan 4d</td>\n",
       "      <td>good</td>\n",
       "      <td>6 cylinders</td>\n",
       "      <td>gas</td>\n",
       "      <td>30112.0</td>\n",
       "      <td>clean</td>\n",
       "      <td>other</td>\n",
       "      <td>58ABK1GG4JU103853</td>\n",
       "      <td>fwd</td>\n",
       "      <td>NaN</td>\n",
       "      <td>sedan</td>\n",
       "      <td>silver</td>\n",
       "      <td>wy</td>\n",
       "    </tr>\n",
       "    <tr>\n",
       "      <th>426879</th>\n",
       "      <td>7301591129</td>\n",
       "      <td>wyoming</td>\n",
       "      <td>30590</td>\n",
       "      <td>2019.0</td>\n",
       "      <td>bmw</td>\n",
       "      <td>4 series 430i gran coupe</td>\n",
       "      <td>good</td>\n",
       "      <td>NaN</td>\n",
       "      <td>gas</td>\n",
       "      <td>22716.0</td>\n",
       "      <td>clean</td>\n",
       "      <td>other</td>\n",
       "      <td>WBA4J1C58KBM14708</td>\n",
       "      <td>rwd</td>\n",
       "      <td>NaN</td>\n",
       "      <td>coupe</td>\n",
       "      <td>NaN</td>\n",
       "      <td>wy</td>\n",
       "    </tr>\n",
       "  </tbody>\n",
       "</table>\n",
       "<p>426880 rows × 18 columns</p>\n",
       "</div>"
      ],
      "text/plain": [
       "                id                  region  price    year manufacturer  \\\n",
       "0       7222695916                prescott   6000     NaN          NaN   \n",
       "1       7218891961            fayetteville  11900     NaN          NaN   \n",
       "2       7221797935            florida keys  21000     NaN          NaN   \n",
       "3       7222270760  worcester / central MA   1500     NaN          NaN   \n",
       "4       7210384030              greensboro   4900     NaN          NaN   \n",
       "...            ...                     ...    ...     ...          ...   \n",
       "426875  7301591192                 wyoming  23590  2019.0       nissan   \n",
       "426876  7301591187                 wyoming  30590  2020.0        volvo   \n",
       "426877  7301591147                 wyoming  34990  2020.0     cadillac   \n",
       "426878  7301591140                 wyoming  28990  2018.0        lexus   \n",
       "426879  7301591129                 wyoming  30590  2019.0          bmw   \n",
       "\n",
       "                           model condition    cylinders    fuel  odometer  \\\n",
       "0                            NaN       NaN          NaN     NaN       NaN   \n",
       "1                            NaN       NaN          NaN     NaN       NaN   \n",
       "2                            NaN       NaN          NaN     NaN       NaN   \n",
       "3                            NaN       NaN          NaN     NaN       NaN   \n",
       "4                            NaN       NaN          NaN     NaN       NaN   \n",
       "...                          ...       ...          ...     ...       ...   \n",
       "426875         maxima s sedan 4d      good  6 cylinders     gas   32226.0   \n",
       "426876  s60 t5 momentum sedan 4d      good          NaN     gas   12029.0   \n",
       "426877          xt4 sport suv 4d      good          NaN  diesel    4174.0   \n",
       "426878           es 350 sedan 4d      good  6 cylinders     gas   30112.0   \n",
       "426879  4 series 430i gran coupe      good          NaN     gas   22716.0   \n",
       "\n",
       "       title_status transmission                VIN drive size       type  \\\n",
       "0               NaN          NaN                NaN   NaN  NaN        NaN   \n",
       "1               NaN          NaN                NaN   NaN  NaN        NaN   \n",
       "2               NaN          NaN                NaN   NaN  NaN        NaN   \n",
       "3               NaN          NaN                NaN   NaN  NaN        NaN   \n",
       "4               NaN          NaN                NaN   NaN  NaN        NaN   \n",
       "...             ...          ...                ...   ...  ...        ...   \n",
       "426875        clean        other  1N4AA6AV6KC367801   fwd  NaN      sedan   \n",
       "426876        clean        other  7JR102FKXLG042696   fwd  NaN      sedan   \n",
       "426877        clean        other  1GYFZFR46LF088296   NaN  NaN  hatchback   \n",
       "426878        clean        other  58ABK1GG4JU103853   fwd  NaN      sedan   \n",
       "426879        clean        other  WBA4J1C58KBM14708   rwd  NaN      coupe   \n",
       "\n",
       "       paint_color state  \n",
       "0              NaN    az  \n",
       "1              NaN    ar  \n",
       "2              NaN    fl  \n",
       "3              NaN    ma  \n",
       "4              NaN    nc  \n",
       "...            ...   ...  \n",
       "426875         NaN    wy  \n",
       "426876         red    wy  \n",
       "426877       white    wy  \n",
       "426878      silver    wy  \n",
       "426879         NaN    wy  \n",
       "\n",
       "[426880 rows x 18 columns]"
      ]
     },
     "execution_count": 9,
     "metadata": {},
     "output_type": "execute_result"
    }
   ],
   "source": [
    "data = pd.read_csv('C:\\\\Users\\\\willi\\\\OneDrive\\\\AI ML\\\\vehicles1.csv')\n",
    "data"
   ]
  },
  {
   "cell_type": "code",
   "execution_count": 3,
   "metadata": {},
   "outputs": [
    {
     "name": "stdout",
     "output_type": "stream",
     "text": [
      "<class 'pandas.core.frame.DataFrame'>\n",
      "RangeIndex: 426880 entries, 0 to 426879\n",
      "Data columns (total 18 columns):\n",
      " #   Column        Non-Null Count   Dtype  \n",
      "---  ------        --------------   -----  \n",
      " 0   id            426880 non-null  int64  \n",
      " 1   region        426880 non-null  object \n",
      " 2   price         426880 non-null  int64  \n",
      " 3   year          425675 non-null  float64\n",
      " 4   manufacturer  409234 non-null  object \n",
      " 5   model         421603 non-null  object \n",
      " 6   condition     252776 non-null  object \n",
      " 7   cylinders     249202 non-null  object \n",
      " 8   fuel          423867 non-null  object \n",
      " 9   odometer      422480 non-null  float64\n",
      " 10  title_status  418638 non-null  object \n",
      " 11  transmission  424324 non-null  object \n",
      " 12  VIN           265838 non-null  object \n",
      " 13  drive         296313 non-null  object \n",
      " 14  size          120519 non-null  object \n",
      " 15  type          334022 non-null  object \n",
      " 16  paint_color   296677 non-null  object \n",
      " 17  state         426880 non-null  object \n",
      "dtypes: float64(2), int64(2), object(14)\n",
      "memory usage: 58.6+ MB\n"
     ]
    }
   ],
   "source": [
    "data.info()"
   ]
  },
  {
   "cell_type": "code",
   "execution_count": null,
   "metadata": {},
   "outputs": [],
   "source": [
    "Most of the features are qualitative data, next steps are separate feature into ordinal or nominal data."
   ]
  },
  {
   "cell_type": "code",
   "execution_count": 4,
   "metadata": {},
   "outputs": [
    {
     "data": {
      "text/html": [
       "<div>\n",
       "<style scoped>\n",
       "    .dataframe tbody tr th:only-of-type {\n",
       "        vertical-align: middle;\n",
       "    }\n",
       "\n",
       "    .dataframe tbody tr th {\n",
       "        vertical-align: top;\n",
       "    }\n",
       "\n",
       "    .dataframe thead th {\n",
       "        text-align: right;\n",
       "    }\n",
       "</style>\n",
       "<table border=\"1\" class=\"dataframe\">\n",
       "  <thead>\n",
       "    <tr style=\"text-align: right;\">\n",
       "      <th></th>\n",
       "      <th>id</th>\n",
       "      <th>price</th>\n",
       "      <th>year</th>\n",
       "      <th>odometer</th>\n",
       "    </tr>\n",
       "  </thead>\n",
       "  <tbody>\n",
       "    <tr>\n",
       "      <th>count</th>\n",
       "      <td>4.268800e+05</td>\n",
       "      <td>4.268800e+05</td>\n",
       "      <td>425675.000000</td>\n",
       "      <td>4.224800e+05</td>\n",
       "    </tr>\n",
       "    <tr>\n",
       "      <th>mean</th>\n",
       "      <td>7.311487e+09</td>\n",
       "      <td>7.519903e+04</td>\n",
       "      <td>2011.235191</td>\n",
       "      <td>9.804333e+04</td>\n",
       "    </tr>\n",
       "    <tr>\n",
       "      <th>std</th>\n",
       "      <td>4.473170e+06</td>\n",
       "      <td>1.218228e+07</td>\n",
       "      <td>9.452120</td>\n",
       "      <td>2.138815e+05</td>\n",
       "    </tr>\n",
       "    <tr>\n",
       "      <th>min</th>\n",
       "      <td>7.207408e+09</td>\n",
       "      <td>0.000000e+00</td>\n",
       "      <td>1900.000000</td>\n",
       "      <td>0.000000e+00</td>\n",
       "    </tr>\n",
       "    <tr>\n",
       "      <th>25%</th>\n",
       "      <td>7.308143e+09</td>\n",
       "      <td>5.900000e+03</td>\n",
       "      <td>2008.000000</td>\n",
       "      <td>3.770400e+04</td>\n",
       "    </tr>\n",
       "    <tr>\n",
       "      <th>50%</th>\n",
       "      <td>7.312621e+09</td>\n",
       "      <td>1.395000e+04</td>\n",
       "      <td>2013.000000</td>\n",
       "      <td>8.554800e+04</td>\n",
       "    </tr>\n",
       "    <tr>\n",
       "      <th>75%</th>\n",
       "      <td>7.315254e+09</td>\n",
       "      <td>2.648575e+04</td>\n",
       "      <td>2017.000000</td>\n",
       "      <td>1.335425e+05</td>\n",
       "    </tr>\n",
       "    <tr>\n",
       "      <th>max</th>\n",
       "      <td>7.317101e+09</td>\n",
       "      <td>3.736929e+09</td>\n",
       "      <td>2022.000000</td>\n",
       "      <td>1.000000e+07</td>\n",
       "    </tr>\n",
       "  </tbody>\n",
       "</table>\n",
       "</div>"
      ],
      "text/plain": [
       "                 id         price           year      odometer\n",
       "count  4.268800e+05  4.268800e+05  425675.000000  4.224800e+05\n",
       "mean   7.311487e+09  7.519903e+04    2011.235191  9.804333e+04\n",
       "std    4.473170e+06  1.218228e+07       9.452120  2.138815e+05\n",
       "min    7.207408e+09  0.000000e+00    1900.000000  0.000000e+00\n",
       "25%    7.308143e+09  5.900000e+03    2008.000000  3.770400e+04\n",
       "50%    7.312621e+09  1.395000e+04    2013.000000  8.554800e+04\n",
       "75%    7.315254e+09  2.648575e+04    2017.000000  1.335425e+05\n",
       "max    7.317101e+09  3.736929e+09    2022.000000  1.000000e+07"
      ]
     },
     "execution_count": 4,
     "metadata": {},
     "output_type": "execute_result"
    }
   ],
   "source": [
    "data.describe()"
   ]
  },
  {
   "cell_type": "markdown",
   "metadata": {},
   "source": [
    "Data contains zero for price cars, the zero will be remove as that is not a considerable real situation to this model"
   ]
  },
  {
   "cell_type": "code",
   "execution_count": 4,
   "metadata": {},
   "outputs": [
    {
     "data": {
      "text/plain": [
       "array(['prescott', 'fayetteville', 'florida keys',\n",
       "       'worcester / central MA', 'greensboro', 'hudson valley',\n",
       "       'medford-ashland', 'erie', 'el paso', 'bellingham',\n",
       "       'skagit / island / SJI', 'la crosse', 'auburn', 'birmingham',\n",
       "       'dothan', 'florence / muscle shoals', 'gadsden-anniston',\n",
       "       'huntsville / decatur', 'mobile', 'montgomery', 'tuscaloosa',\n",
       "       'anchorage / mat-su', 'fairbanks', 'kenai peninsula',\n",
       "       'southeast alaska', 'flagstaff / sedona', 'mohave county',\n",
       "       'phoenix', 'show low', 'sierra vista', 'tucson', 'yuma',\n",
       "       'fort smith', 'jonesboro', 'little rock', 'texarkana',\n",
       "       'bakersfield', 'chico', 'fresno / madera', 'gold country',\n",
       "       'hanford-corcoran', 'humboldt county', 'imperial county',\n",
       "       'inland empire', 'los angeles', 'mendocino county', 'merced',\n",
       "       'modesto', 'monterey bay', 'orange county', 'palm springs',\n",
       "       'redding', 'reno / tahoe', 'sacramento', 'san diego',\n",
       "       'san luis obispo', 'santa barbara', 'santa maria', 'SF bay area',\n",
       "       'siskiyou county', 'stockton', 'susanville', 'ventura county',\n",
       "       'visalia-tulare', 'yuba-sutter', 'boulder', 'colorado springs',\n",
       "       'denver', 'eastern CO', 'fort collins / north CO', 'high rockies',\n",
       "       'pueblo', 'western slope', 'eastern CT', 'hartford', 'new haven',\n",
       "       'northwest CT', 'washington, DC', 'delaware', 'daytona beach',\n",
       "       'ft myers / SW florida', 'gainesville', 'heartland florida',\n",
       "       'jacksonville', 'lakeland', 'north central FL', 'ocala',\n",
       "       'okaloosa / walton', 'orlando', 'panama city', 'pensacola',\n",
       "       'sarasota-bradenton', 'south florida', 'space coast',\n",
       "       'st augustine', 'tallahassee', 'tampa bay area', 'treasure coast',\n",
       "       'albany', 'athens', 'atlanta', 'augusta', 'brunswick', 'columbus',\n",
       "       'macon / warner robins', 'northwest GA', 'savannah / hinesville',\n",
       "       'statesboro', 'valdosta', 'hawaii', 'boise', 'east idaho',\n",
       "       'lewiston / clarkston', 'pullman / moscow',\n",
       "       \"spokane / coeur d'alene\", 'twin falls', 'bloomington-normal',\n",
       "       'champaign urbana', 'chicago', 'decatur', 'la salle co',\n",
       "       'mattoon-charleston', 'peoria', 'quad cities, IA/IL', 'rockford',\n",
       "       'southern illinois', 'springfield', 'st louis, MO', 'western IL',\n",
       "       'bloomington', 'evansville', 'fort wayne', 'indianapolis',\n",
       "       'kokomo', 'lafayette / west lafayette', 'muncie / anderson',\n",
       "       'richmond', 'south bend / michiana', 'terre haute', 'ames',\n",
       "       'cedar rapids', 'des moines', 'dubuque', 'fort dodge', 'iowa city',\n",
       "       'mason city', 'omaha / council bluffs', 'sioux city',\n",
       "       'southeast IA', 'waterloo / cedar falls', 'kansas city, MO',\n",
       "       'lawrence', 'manhattan', 'northwest KS', 'salina', 'southeast KS',\n",
       "       'southwest KS', 'topeka', 'wichita', 'bowling green',\n",
       "       'eastern kentucky', 'huntington-ashland', 'lexington',\n",
       "       'louisville', 'owensboro', 'western KY', 'baton rouge',\n",
       "       'central louisiana', 'houma', 'lafayette', 'lake charles',\n",
       "       'monroe', 'new orleans', 'shreveport', 'maine', 'annapolis',\n",
       "       'baltimore', 'cumberland valley', 'eastern shore', 'frederick',\n",
       "       'southern maryland', 'western maryland', 'boston',\n",
       "       'cape cod / islands', 'south coast', 'western massachusetts',\n",
       "       'ann arbor', 'battle creek', 'central michigan', 'detroit metro',\n",
       "       'flint', 'grand rapids', 'holland', 'jackson', 'kalamazoo',\n",
       "       'lansing', 'muskegon', 'northern michigan', 'port huron',\n",
       "       'saginaw-midland-baycity', 'southwest michigan', 'the thumb',\n",
       "       'upper peninsula', 'bemidji', 'brainerd', 'duluth / superior',\n",
       "       'fargo / moorhead', 'mankato', 'minneapolis / st paul',\n",
       "       'rochester', 'southwest MN', 'st cloud', 'gulfport / biloxi',\n",
       "       'hattiesburg', 'meridian', 'north mississippi', 'southwest MS',\n",
       "       'columbia / jeff city', 'joplin', 'kansas city', 'kirksville',\n",
       "       'lake of the ozarks', 'southeast missouri', 'st joseph',\n",
       "       'st louis', 'billings', 'bozeman', 'butte', 'eastern montana',\n",
       "       'great falls', 'helena', 'kalispell', 'missoula', 'asheville',\n",
       "       'boone', 'charlotte', 'eastern NC', 'hickory / lenoir',\n",
       "       'outer banks', 'raleigh / durham / CH', 'wilmington',\n",
       "       'winston-salem', 'grand island', 'lincoln', 'north platte',\n",
       "       'scottsbluff / panhandle', 'elko', 'las vegas', 'central NJ',\n",
       "       'jersey shore', 'north jersey', 'south jersey', 'albuquerque',\n",
       "       'clovis / portales', 'farmington', 'las cruces',\n",
       "       'roswell / carlsbad', 'santa fe / taos', 'binghamton', 'buffalo',\n",
       "       'catskills', 'chautauqua', 'elmira-corning', 'finger lakes',\n",
       "       'glens falls', 'ithaca', 'long island', 'new york city', 'oneonta',\n",
       "       'plattsburgh-adirondacks', 'potsdam-canton-massena', 'syracuse',\n",
       "       'twin tiers NY/PA', 'utica-rome-oneida', 'watertown',\n",
       "       'new hampshire', 'bismarck', 'grand forks', 'north dakota',\n",
       "       'akron / canton', 'ashtabula', 'chillicothe', 'cincinnati',\n",
       "       'cleveland', 'dayton / springfield', 'lima / findlay', 'mansfield',\n",
       "       'northern panhandle', 'parkersburg-marietta', 'sandusky', 'toledo',\n",
       "       'tuscarawas co', 'youngstown', 'zanesville / cambridge',\n",
       "       'fort smith, AR', 'lawton', 'northwest OK', 'oklahoma city',\n",
       "       'stillwater', 'texoma', 'tulsa', 'bend', 'corvallis/albany',\n",
       "       'east oregon', 'eugene', 'klamath falls', 'oregon coast',\n",
       "       'portland', 'roseburg', 'salem', 'altoona-johnstown', 'harrisburg',\n",
       "       'lancaster', 'lehigh valley', 'meadville', 'philadelphia',\n",
       "       'pittsburgh', 'poconos', 'reading', 'scranton / wilkes-barre',\n",
       "       'state college', 'williamsport', 'york', 'rhode island',\n",
       "       'charleston', 'columbia', 'florence', 'greenville / upstate',\n",
       "       'hilton head', 'myrtle beach', 'northeast SD',\n",
       "       'pierre / central SD', 'rapid city / west SD',\n",
       "       'sioux falls / SE SD', 'south dakota', 'chattanooga',\n",
       "       'clarksville', 'cookeville', 'knoxville', 'memphis', 'nashville',\n",
       "       'tri-cities', 'abilene', 'amarillo', 'austin',\n",
       "       'beaumont / port arthur', 'brownsville', 'college station',\n",
       "       'corpus christi', 'dallas / fort worth', 'deep east texas',\n",
       "       'del rio / eagle pass', 'galveston', 'houston',\n",
       "       'killeen / temple / ft hood', 'laredo', 'lubbock',\n",
       "       'mcallen / edinburg', 'odessa / midland', 'san angelo',\n",
       "       'san antonio', 'san marcos', 'southwest TX', 'tyler / east TX',\n",
       "       'victoria', 'waco', 'wichita falls', 'logan', 'ogden-clearfield',\n",
       "       'provo / orem', 'salt lake city', 'st george', 'vermont',\n",
       "       'charlottesville', 'danville', 'fredericksburg', 'harrisonburg',\n",
       "       'lynchburg', 'new river valley', 'norfolk / hampton roads',\n",
       "       'roanoke', 'southwest VA', 'winchester',\n",
       "       'kennewick-pasco-richland', 'moses lake', 'olympic peninsula',\n",
       "       'seattle-tacoma', 'wenatchee', 'yakima', 'eastern panhandle',\n",
       "       'morgantown', 'southern WV', 'west virginia (old)',\n",
       "       'appleton-oshkosh-FDL', 'eau claire', 'green bay', 'janesville',\n",
       "       'kenosha-racine', 'madison', 'milwaukee', 'northern WI',\n",
       "       'sheboygan', 'wausau', 'wyoming'], dtype=object)"
      ]
     },
     "execution_count": 4,
     "metadata": {},
     "output_type": "execute_result"
    }
   ],
   "source": [
    "unique_values_region = data['region'].unique()\n",
    "unique_values_region\n",
    "# feature contains many different values this feature to be removed because it will impact the analysis and recommendations.The state will serve as good similar feature to replace this knowledge"
   ]
  },
  {
   "cell_type": "code",
   "execution_count": 84,
   "metadata": {},
   "outputs": [
    {
     "data": {
      "text/plain": [
       "array([nan, 'gmc', 'chevrolet', 'toyota', 'ford', 'jeep', 'nissan', 'ram',\n",
       "       'mazda', 'cadillac', 'honda', 'dodge', 'lexus', 'jaguar', 'buick',\n",
       "       'chrysler', 'volvo', 'audi', 'infiniti', 'lincoln', 'alfa-romeo',\n",
       "       'subaru', 'acura', 'hyundai', 'mercedes-benz', 'bmw', 'mitsubishi',\n",
       "       'volkswagen', 'porsche', 'kia', 'rover', 'ferrari', 'mini',\n",
       "       'pontiac', 'fiat', 'tesla', 'saturn', 'mercury', 'harley-davidson',\n",
       "       'datsun', 'aston-martin', 'land rover', 'morgan'], dtype=object)"
      ]
     },
     "execution_count": 84,
     "metadata": {},
     "output_type": "execute_result"
    }
   ],
   "source": [
    "unique_values_manufacturer = data['manufacturer'].unique()\n",
    "unique_values_manufacturer\n",
    "# nominal feature"
   ]
  },
  {
   "cell_type": "code",
   "execution_count": 85,
   "metadata": {},
   "outputs": [
    {
     "data": {
      "text/plain": [
       "29649"
      ]
     },
     "execution_count": 85,
     "metadata": {},
     "output_type": "execute_result"
    }
   ],
   "source": [
    "unique_values_model = data['model'].unique()\n",
    "#unique_values_model\n",
    "distinct_count = data['model'].nunique()\n",
    "distinct_count\n",
    "# nominal data with more than 29k values , it will be removed from the model as the manufacturer and size is a good indicator of price"
   ]
  },
  {
   "cell_type": "code",
   "execution_count": 87,
   "metadata": {},
   "outputs": [
    {
     "data": {
      "text/plain": [
       "array([nan, 'full-size', 'mid-size', 'compact', 'sub-compact'],\n",
       "      dtype=object)"
      ]
     },
     "execution_count": 87,
     "metadata": {},
     "output_type": "execute_result"
    }
   ],
   "source": [
    "unique_values_size = data['size'].unique()\n",
    "unique_values_size\n",
    "#nominal size is just an attribute without increasing preference"
   ]
  },
  {
   "cell_type": "code",
   "execution_count": 88,
   "metadata": {},
   "outputs": [
    {
     "data": {
      "text/plain": [
       "array([nan, 'good', 'excellent', 'fair', 'like new', 'new', 'salvage'],\n",
       "      dtype=object)"
      ]
     },
     "execution_count": 88,
     "metadata": {},
     "output_type": "execute_result"
    }
   ],
   "source": [
    "unique_values_condition = data['condition'].unique()\n",
    "unique_values_condition\n",
    "#ordinal the higher the better the condition- salvage , fair,  good, excellent, like new, new"
   ]
  },
  {
   "cell_type": "code",
   "execution_count": 62,
   "metadata": {},
   "outputs": [
    {
     "data": {
      "text/plain": [
       "array(['4 cylinders', '6 cylinders', '8 cylinders', '5 cylinders',\n",
       "       '10 cylinders', '3 cylinders', 'other', '12 cylinders'],\n",
       "      dtype=object)"
      ]
     },
     "execution_count": 62,
     "metadata": {},
     "output_type": "execute_result"
    }
   ],
   "source": [
    "unique_values_condition = data['cylinders'].unique()\n",
    "unique_values_condition"
   ]
  },
  {
   "cell_type": "code",
   "execution_count": 15,
   "metadata": {},
   "outputs": [
    {
     "data": {
      "text/plain": [
       "array([nan, 'gas', 'other', 'diesel', 'hybrid', 'electric'], dtype=object)"
      ]
     },
     "execution_count": 15,
     "metadata": {},
     "output_type": "execute_result"
    }
   ],
   "source": [
    "unique_values_fuel = data['fuel'].unique()\n",
    "unique_values_fuel\n",
    "# nominal fuel is just an attribute withour increasing preference"
   ]
  },
  {
   "cell_type": "code",
   "execution_count": 16,
   "metadata": {},
   "outputs": [
    {
     "data": {
      "text/plain": [
       "array([nan, '3GTP1VEC4EG551563', '1GCSCSE06AZ123805', ...,\n",
       "       '2HGES15535H620534', '1FDWF37P64EA24868', 'SAJGX2749VCOO8376'],\n",
       "      dtype=object)"
      ]
     },
     "execution_count": 16,
     "metadata": {},
     "output_type": "execute_result"
    }
   ],
   "source": [
    "unique_values_VIN = data['VIN'].unique()\n",
    "unique_values_VIN\n",
    "# VIN is a unique identifier for the vehicle to be dropped "
   ]
  },
  {
   "cell_type": "code",
   "execution_count": 17,
   "metadata": {},
   "outputs": [
    {
     "data": {
      "text/plain": [
       "array(['az', 'ar', 'fl', 'ma', 'nc', 'ny', 'or', 'pa', 'tx', 'wa', 'wi',\n",
       "       'al', 'ak', 'ca', 'co', 'ct', 'dc', 'de', 'ga', 'hi', 'id', 'il',\n",
       "       'in', 'ia', 'ks', 'ky', 'la', 'me', 'md', 'mi', 'mn', 'ms', 'mo',\n",
       "       'mt', 'ne', 'nv', 'nj', 'nm', 'nh', 'nd', 'oh', 'ok', 'ri', 'sc',\n",
       "       'sd', 'tn', 'ut', 'vt', 'va', 'wv', 'wy'], dtype=object)"
      ]
     },
     "execution_count": 17,
     "metadata": {},
     "output_type": "execute_result"
    }
   ],
   "source": [
    "unique_values_state = data['state'].unique()\n",
    "unique_values_state\n",
    "# nominal state is just an attribute withour increasing preference"
   ]
  },
  {
   "cell_type": "code",
   "execution_count": 18,
   "metadata": {},
   "outputs": [
    {
     "data": {
      "text/plain": [
       "array([nan, 'clean', 'rebuilt', 'lien', 'salvage', 'missing',\n",
       "       'parts only'], dtype=object)"
      ]
     },
     "execution_count": 18,
     "metadata": {},
     "output_type": "execute_result"
    }
   ],
   "source": [
    "unique_values_title_status = data['title_status'].unique()\n",
    "unique_values_title_status\n",
    "# ordinal the higher the better the condition 1. parts only, 2. missing, 3. salvage, 4. rebuilt, 5, lien, 6 clean"
   ]
  },
  {
   "cell_type": "code",
   "execution_count": 19,
   "metadata": {},
   "outputs": [
    {
     "data": {
      "text/plain": [
       "array([nan, 'other', 'automatic', 'manual'], dtype=object)"
      ]
     },
     "execution_count": 19,
     "metadata": {},
     "output_type": "execute_result"
    }
   ],
   "source": [
    "unique_values_transmission = data['transmission'].unique()\n",
    "unique_values_transmission\n",
    "# nominal transmission is just an attribute without increasing preference"
   ]
  },
  {
   "cell_type": "code",
   "execution_count": 20,
   "metadata": {},
   "outputs": [
    {
     "data": {
      "text/plain": [
       "array([nan, 'white', 'blue', 'red', 'black', 'silver', 'grey', 'brown',\n",
       "       'yellow', 'orange', 'green', 'custom', 'purple'], dtype=object)"
      ]
     },
     "execution_count": 20,
     "metadata": {},
     "output_type": "execute_result"
    }
   ],
   "source": [
    "unique_values_paint_color = data['paint_color'].unique()\n",
    "unique_values_paint_color\n",
    "# nominal paint_type is just an attribute without increasing preference"
   ]
  },
  {
   "cell_type": "code",
   "execution_count": 21,
   "metadata": {},
   "outputs": [
    {
     "data": {
      "text/plain": [
       "array([nan, 'pickup', 'truck', 'other', 'coupe', 'SUV', 'hatchback',\n",
       "       'mini-van', 'sedan', 'offroad', 'bus', 'van', 'convertible',\n",
       "       'wagon'], dtype=object)"
      ]
     },
     "execution_count": 21,
     "metadata": {},
     "output_type": "execute_result"
    }
   ],
   "source": [
    "unique_values_type = data['type'].unique()\n",
    "unique_values_type\n",
    "# nominal type is just an attribute without increasing preference"
   ]
  },
  {
   "cell_type": "code",
   "execution_count": 63,
   "metadata": {},
   "outputs": [
    {
     "data": {
      "text/plain": [
       "array(['fwd', 'rwd', '4wd'], dtype=object)"
      ]
     },
     "execution_count": 63,
     "metadata": {},
     "output_type": "execute_result"
    }
   ],
   "source": [
    "unique_values_type = data['drive'].unique()\n",
    "unique_values_type\n",
    "# nominal type is just an attribute without increasing preference"
   ]
  },
  {
   "cell_type": "markdown",
   "metadata": {},
   "source": [
    "About the data quality, it is observed a significant number of records with the missing data , like the car size."
   ]
  },
  {
   "cell_type": "markdown",
   "metadata": {},
   "source": [
    "### Data Preparation\n",
    "\n",
    "After our initial exploration and fine tuning of the business understanding, it is time to construct our final dataset prior to modeling.  Here, we want to make sure to handle any integrity issues and cleaning, the engineering of new features, any transformations that we believe should happen (scaling, logarithms, normalization, etc.), and general preparation for modeling with `sklearn`. "
   ]
  },
  {
   "cell_type": "markdown",
   "metadata": {},
   "source": [
    "column size contains a significant amount of records with null values however this column is very important for separate the type of cars"
   ]
  },
  {
   "cell_type": "markdown",
   "metadata": {},
   "source": [
    "Drop the Null values from the data, the no value records will be removed as no good replacement strategy would fit to this table."
   ]
  },
  {
   "cell_type": "code",
   "execution_count": 10,
   "metadata": {},
   "outputs": [
    {
     "name": "stdout",
     "output_type": "stream",
     "text": [
      "<class 'pandas.core.frame.DataFrame'>\n",
      "Int64Index: 34868 entries, 126 to 426836\n",
      "Data columns (total 18 columns):\n",
      " #   Column        Non-Null Count  Dtype  \n",
      "---  ------        --------------  -----  \n",
      " 0   id            34868 non-null  int64  \n",
      " 1   region        34868 non-null  object \n",
      " 2   price         34868 non-null  int64  \n",
      " 3   year          34868 non-null  float64\n",
      " 4   manufacturer  34868 non-null  object \n",
      " 5   model         34868 non-null  object \n",
      " 6   condition     34868 non-null  object \n",
      " 7   cylinders     34868 non-null  object \n",
      " 8   fuel          34868 non-null  object \n",
      " 9   odometer      34868 non-null  float64\n",
      " 10  title_status  34868 non-null  object \n",
      " 11  transmission  34868 non-null  object \n",
      " 12  VIN           34868 non-null  object \n",
      " 13  drive         34868 non-null  object \n",
      " 14  size          34868 non-null  object \n",
      " 15  type          34868 non-null  object \n",
      " 16  paint_color   34868 non-null  object \n",
      " 17  state         34868 non-null  object \n",
      "dtypes: float64(2), int64(2), object(14)\n",
      "memory usage: 5.1+ MB\n"
     ]
    }
   ],
   "source": [
    "#2. drop null values\n",
    "data = data.dropna()\n",
    "data.info()"
   ]
  },
  {
   "cell_type": "code",
   "execution_count": 12,
   "metadata": {},
   "outputs": [
    {
     "data": {
      "text/html": [
       "<div>\n",
       "<style scoped>\n",
       "    .dataframe tbody tr th:only-of-type {\n",
       "        vertical-align: middle;\n",
       "    }\n",
       "\n",
       "    .dataframe tbody tr th {\n",
       "        vertical-align: top;\n",
       "    }\n",
       "\n",
       "    .dataframe thead th {\n",
       "        text-align: right;\n",
       "    }\n",
       "</style>\n",
       "<table border=\"1\" class=\"dataframe\">\n",
       "  <thead>\n",
       "    <tr style=\"text-align: right;\">\n",
       "      <th></th>\n",
       "      <th>id</th>\n",
       "      <th>price</th>\n",
       "      <th>year</th>\n",
       "      <th>odometer</th>\n",
       "    </tr>\n",
       "  </thead>\n",
       "  <tbody>\n",
       "    <tr>\n",
       "      <th>count</th>\n",
       "      <td>3.249600e+04</td>\n",
       "      <td>32496.000000</td>\n",
       "      <td>32496.000000</td>\n",
       "      <td>3.249600e+04</td>\n",
       "    </tr>\n",
       "    <tr>\n",
       "      <th>mean</th>\n",
       "      <td>7.311551e+09</td>\n",
       "      <td>16993.479013</td>\n",
       "      <td>2010.938269</td>\n",
       "      <td>1.089832e+05</td>\n",
       "    </tr>\n",
       "    <tr>\n",
       "      <th>std</th>\n",
       "      <td>4.294195e+06</td>\n",
       "      <td>13219.394890</td>\n",
       "      <td>7.274987</td>\n",
       "      <td>1.022710e+05</td>\n",
       "    </tr>\n",
       "    <tr>\n",
       "      <th>min</th>\n",
       "      <td>7.301592e+09</td>\n",
       "      <td>1.000000</td>\n",
       "      <td>1905.000000</td>\n",
       "      <td>0.000000e+00</td>\n",
       "    </tr>\n",
       "    <tr>\n",
       "      <th>25%</th>\n",
       "      <td>7.308238e+09</td>\n",
       "      <td>7500.000000</td>\n",
       "      <td>2008.000000</td>\n",
       "      <td>6.744975e+04</td>\n",
       "    </tr>\n",
       "    <tr>\n",
       "      <th>50%</th>\n",
       "      <td>7.312411e+09</td>\n",
       "      <td>13125.500000</td>\n",
       "      <td>2012.000000</td>\n",
       "      <td>1.055840e+05</td>\n",
       "    </tr>\n",
       "    <tr>\n",
       "      <th>75%</th>\n",
       "      <td>7.315154e+09</td>\n",
       "      <td>23395.000000</td>\n",
       "      <td>2015.000000</td>\n",
       "      <td>1.428455e+05</td>\n",
       "    </tr>\n",
       "    <tr>\n",
       "      <th>max</th>\n",
       "      <td>7.317099e+09</td>\n",
       "      <td>155000.000000</td>\n",
       "      <td>2022.000000</td>\n",
       "      <td>9.999999e+06</td>\n",
       "    </tr>\n",
       "  </tbody>\n",
       "</table>\n",
       "</div>"
      ],
      "text/plain": [
       "                 id          price          year      odometer\n",
       "count  3.249600e+04   32496.000000  32496.000000  3.249600e+04\n",
       "mean   7.311551e+09   16993.479013   2010.938269  1.089832e+05\n",
       "std    4.294195e+06   13219.394890      7.274987  1.022710e+05\n",
       "min    7.301592e+09       1.000000   1905.000000  0.000000e+00\n",
       "25%    7.308238e+09    7500.000000   2008.000000  6.744975e+04\n",
       "50%    7.312411e+09   13125.500000   2012.000000  1.055840e+05\n",
       "75%    7.315154e+09   23395.000000   2015.000000  1.428455e+05\n",
       "max    7.317099e+09  155000.000000   2022.000000  9.999999e+06"
      ]
     },
     "execution_count": 12,
     "metadata": {},
     "output_type": "execute_result"
    }
   ],
   "source": [
    "#3 remove the zero on price\n",
    "data = data[data['price'] != 0]\n",
    "data.describe()"
   ]
  },
  {
   "cell_type": "code",
   "execution_count": 13,
   "metadata": {},
   "outputs": [],
   "source": [
    "#4 drop columns 'VIN', 'model', 'id', 'region'\n",
    "# VIn, Model and region justication included in the previous analysis of the column and id is removed because it just a record identifier\n",
    "df1 = data.drop(['VIN', 'model', 'id', 'region'], axis=1)"
   ]
  },
  {
   "cell_type": "code",
   "execution_count": 14,
   "metadata": {},
   "outputs": [
    {
     "data": {
      "image/png": "[encoded data removed]",
      "text/plain": [
       "<Figure size 1500x400 with 2 Axes>"
      ]
     },
     "metadata": {},
     "output_type": "display_data"
    }
   ],
   "source": [
    "# Prices requires a log transformation \n",
    "fig, ax = plt.subplots(1, 2, figsize = (15, 4))\n",
    "ax[0].hist(df1['price'])\n",
    "ax[0].grid()\n",
    "ax[0].set_title('price')\n",
    "ax[1].hist(np.log1p(df1['price']))\n",
    "ax[1].grid()\n",
    "ax[1].set_title('Logarithm of price');"
   ]
  },
  {
   "cell_type": "code",
   "execution_count": 15,
   "metadata": {},
   "outputs": [
    {
     "data": {
      "image/png": "[encoded data removed]",
      "text/plain": [
       "<Figure size 1200x600 with 1 Axes>"
      ]
     },
     "metadata": {},
     "output_type": "display_data"
    }
   ],
   "source": [
    "# Group the data by 'manufacturer' and calculate the mean price for each model\n",
    "model_price_mean = df1.groupby('manufacturer')['price'].mean().reset_index()\n",
    "\n",
    "# Create a bar chart\n",
    "plt.figure(figsize=(12, 6))\n",
    "plt.bar(model_price_mean['manufacturer'], model_price_mean['price'])\n",
    "plt.xlabel('Car Manufacturer')\n",
    "plt.ylabel('Mean Price')\n",
    "plt.title('Mean Price by Car Manufacturer')\n",
    "plt.xticks(rotation=90)  \n",
    "plt.tight_layout()\n",
    "\n",
    "# Show the chart\n",
    "plt.show()"
   ]
  },
  {
   "cell_type": "markdown",
   "metadata": {},
   "source": [
    "As expected some manufacturer will have a signficant impact on price, 'ferrari', 'tesla', 'aston-martin', 'ram', 'rover', 'alfa-romeo' are recommended to be removed from the analysis due to their higher price. \n",
    "\n",
    "Manufacurer 'ferrari', 'tesla', 'aston-martin', 'ram', 'rover', 'alfa-romeo' are included in the final report as feature that have a positive impact on price.\n"
   ]
  },
  {
   "cell_type": "markdown",
   "metadata": {},
   "source": [
    "As expected some manufacturer will have a signficant impact on price, 'ferrari', 'tesla', 'aston-martin', 'ram', 'rover', 'alfa-romeo' and prosche are recommended to be removed from the analysis due to their higher price.\n",
    "\n",
    "Manufacurer 'ferrari', 'tesla', 'aston-martin', 'ram', 'rover', 'alfa-romeo' and porsche are included in the final report as feature that have a positive impact on price.\n"
   ]
  },
  {
   "cell_type": "code",
   "execution_count": 16,
   "metadata": {},
   "outputs": [],
   "source": [
    "# 4 Filter out rows where 'manufacturer' is not equal ferrari', 'tesla', 'aston-martin', 'ram', 'rover', 'alfa-romeo, porsche\n",
    "df1 = df1[~df1['manufacturer'].isin(['ferrari', 'tesla', 'aston-martin', 'ram', 'rover', 'alfa-romeo', 'porsche'])]"
   ]
  },
  {
   "cell_type": "code",
   "execution_count": 17,
   "metadata": {},
   "outputs": [
    {
     "data": {
      "image/png": "[encoded data removed]",
      "text/plain": [
       "<Figure size 1200x600 with 1 Axes>"
      ]
     },
     "metadata": {},
     "output_type": "display_data"
    }
   ],
   "source": [
    "# Group the data by 'state' and calculate the mean price for each model\n",
    "model_price_mean = df1.groupby('state')['price'].mean().reset_index()\n",
    "\n",
    "# Create a bar chart\n",
    "plt.figure(figsize=(12, 6))\n",
    "plt.bar(model_price_mean['state'], model_price_mean['price'])\n",
    "plt.xlabel('state')\n",
    "plt.ylabel('Mean Price')\n",
    "plt.title('Mean Price by state')\n",
    "plt.xticks(rotation=90)\n",
    "plt.tight_layout()\n",
    "\n",
    "# Show the chart\n",
    "plt.show()"
   ]
  },
  {
   "cell_type": "markdown",
   "metadata": {},
   "source": [
    "Based on the plots some states will have a significant impact on the price:\n",
    "\n",
    "Higher price states from the data: ak, de, hi, tn and wy\n",
    "lower price state from the data: dc\n",
    "\n",
    "Those states will be removed from the data and recommended in the final recommendation."
   ]
  },
  {
   "cell_type": "code",
   "execution_count": 18,
   "metadata": {},
   "outputs": [],
   "source": [
    "# 5 Filter out rows where 'state' \n",
    "df1 = df1[~df1['state'].isin(['ak', 'dc', 'wy', 'tn', 'de', 'hi'])]"
   ]
  },
  {
   "cell_type": "code",
   "execution_count": 19,
   "metadata": {},
   "outputs": [
    {
     "data": {
      "image/png": "[encoded data removed]",
      "text/plain": [
       "<Figure size 1200x600 with 1 Axes>"
      ]
     },
     "metadata": {},
     "output_type": "display_data"
    }
   ],
   "source": [
    "# Group the data by 'type' and calculate the mean price for each model\n",
    "model_price_mean = df1.groupby('fuel')['price'].mean().reset_index()\n",
    "\n",
    "# Create a bar chart\n",
    "plt.figure(figsize=(12, 6))\n",
    "plt.bar(model_price_mean['fuel'], model_price_mean['price'])\n",
    "plt.xlabel('fuel Type')\n",
    "plt.ylabel('Mean Price')\n",
    "plt.title('Mean Price by fuel Type')\n",
    "plt.xticks(rotation=90) \n",
    "plt.tight_layout()\n",
    "\n",
    "# Show the chart\n",
    "plt.show()"
   ]
  },
  {
   "cell_type": "markdown",
   "metadata": {},
   "source": [
    "Fuel type can be reduced to diese and other because of similar values."
   ]
  },
  {
   "cell_type": "code",
   "execution_count": 20,
   "metadata": {},
   "outputs": [],
   "source": [
    "#6 combine fuel\n",
    "df1['new_fuel'] = df1['fuel'].replace(['gas', 'other', 'hybrid', 'electric'], 'other')\n"
   ]
  },
  {
   "cell_type": "code",
   "execution_count": 58,
   "metadata": {},
   "outputs": [
    {
     "data": {
      "image/png": "[encoded data removed]",
      "text/plain": [
       "<Figure size 1200x600 with 1 Axes>"
      ]
     },
     "metadata": {},
     "output_type": "display_data"
    }
   ],
   "source": [
    "# Set the style for Seaborn\n",
    "sns.set(style=\"whitegrid\")\n",
    "\n",
    "# Create the barplot\n",
    "plt.figure(figsize=(12, 6))\n",
    "sns.barplot(x=\"fuel\", y=\"price\", hue=\"type\", data=df1, palette=\"Set3\")\n",
    "plt.xlabel(\"Fuel\")\n",
    "plt.ylabel(\"Price\")\n",
    "plt.title(\"Price by type and Fuel\")\n",
    "plt.legend(title=\"type\", loc=\"upper right\")\n",
    "\n",
    "# Show the chart\n",
    "plt.show()"
   ]
  },
  {
   "cell_type": "markdown",
   "metadata": {},
   "source": [
    "Diesel vehicles corresponds to many vehicle types."
   ]
  },
  {
   "cell_type": "code",
   "execution_count": 22,
   "metadata": {},
   "outputs": [
    {
     "data": {
      "image/png": "[encoded data removed]",
      "text/plain": [
       "<Figure size 1200x600 with 1 Axes>"
      ]
     },
     "metadata": {},
     "output_type": "display_data"
    }
   ],
   "source": [
    "# Group the data by 'type' and calculate the mean price for each model\n",
    "model_price_mean = df1.groupby('type')['price'].mean().reset_index()\n",
    "\n",
    "# Create a bar chart\n",
    "plt.figure(figsize=(12, 6))\n",
    "plt.bar(model_price_mean['type'], model_price_mean['price'])\n",
    "plt.xlabel('Car Type')\n",
    "plt.ylabel('Mean Price')\n",
    "plt.title('Mean Price by Car Type')\n",
    "plt.xticks(rotation=90) \n",
    "plt.tight_layout()\n",
    "\n",
    "# Show the chart\n",
    "plt.show()"
   ]
  },
  {
   "cell_type": "code",
   "execution_count": 27,
   "metadata": {},
   "outputs": [
    {
     "data": {
      "text/plain": [
       "array(['sedan', 'convertible', 'coupe', 'SUV', 'hatchback', 'wagon',\n",
       "       'pickup', 'other', 'van', 'mini-van', 'offroad', 'bus'],\n",
       "      dtype=object)"
      ]
     },
     "execution_count": 27,
     "metadata": {},
     "output_type": "execute_result"
    }
   ],
   "source": [
    "# remove truck type as its price is very different from the other types - Truck will be recommended as having a positive immpact on price\n",
    "df1 = df1[df1['type'] != 'truck']\n",
    "unique_values_type2 = df1['type'].unique()\n",
    "unique_values_type2"
   ]
  },
  {
   "cell_type": "code",
   "execution_count": 28,
   "metadata": {},
   "outputs": [
    {
     "data": {
      "image/png": "[encoded data removed]",
      "text/plain": [
       "<Figure size 1200x600 with 1 Axes>"
      ]
     },
     "metadata": {},
     "output_type": "display_data"
    }
   ],
   "source": [
    "# Group the data by 'model' and calculate the mean price for each model\n",
    "model_price_mean = df1.groupby('transmission')['price'].mean().reset_index()\n",
    "\n",
    "# Create a bar chart\n",
    "plt.figure(figsize=(12, 6))\n",
    "plt.bar(model_price_mean['transmission'], model_price_mean['price'])\n",
    "plt.xlabel('Car transmission')\n",
    "plt.ylabel('Mean Price')\n",
    "plt.title('Mean Price by transmission')\n",
    "plt.xticks(rotation=90)  \n",
    "plt.tight_layout()\n",
    "\n",
    "# Show the chart\n",
    "plt.show()"
   ]
  },
  {
   "cell_type": "code",
   "execution_count": 29,
   "metadata": {},
   "outputs": [
    {
     "data": {
      "text/html": [
       "<div>\n",
       "<style scoped>\n",
       "    .dataframe tbody tr th:only-of-type {\n",
       "        vertical-align: middle;\n",
       "    }\n",
       "\n",
       "    .dataframe tbody tr th {\n",
       "        vertical-align: top;\n",
       "    }\n",
       "\n",
       "    .dataframe thead th {\n",
       "        text-align: right;\n",
       "    }\n",
       "</style>\n",
       "<table border=\"1\" class=\"dataframe\">\n",
       "  <thead>\n",
       "    <tr style=\"text-align: right;\">\n",
       "      <th></th>\n",
       "      <th>price</th>\n",
       "      <th>year</th>\n",
       "      <th>manufacturer</th>\n",
       "      <th>condition</th>\n",
       "      <th>cylinders</th>\n",
       "      <th>fuel</th>\n",
       "      <th>odometer</th>\n",
       "      <th>title_status</th>\n",
       "      <th>transmission</th>\n",
       "      <th>drive</th>\n",
       "      <th>size</th>\n",
       "      <th>type</th>\n",
       "      <th>paint_color</th>\n",
       "      <th>state</th>\n",
       "      <th>new_fuel</th>\n",
       "      <th>new_transmission</th>\n",
       "    </tr>\n",
       "  </thead>\n",
       "  <tbody>\n",
       "    <tr>\n",
       "      <th>215</th>\n",
       "      <td>4000</td>\n",
       "      <td>2002.0</td>\n",
       "      <td>toyota</td>\n",
       "      <td>excellent</td>\n",
       "      <td>4 cylinders</td>\n",
       "      <td>gas</td>\n",
       "      <td>155000.0</td>\n",
       "      <td>clean</td>\n",
       "      <td>automatic</td>\n",
       "      <td>fwd</td>\n",
       "      <td>compact</td>\n",
       "      <td>sedan</td>\n",
       "      <td>blue</td>\n",
       "      <td>al</td>\n",
       "      <td>other</td>\n",
       "      <td>Auto-Man</td>\n",
       "    </tr>\n",
       "    <tr>\n",
       "      <th>219</th>\n",
       "      <td>2500</td>\n",
       "      <td>1995.0</td>\n",
       "      <td>bmw</td>\n",
       "      <td>fair</td>\n",
       "      <td>6 cylinders</td>\n",
       "      <td>gas</td>\n",
       "      <td>110661.0</td>\n",
       "      <td>clean</td>\n",
       "      <td>automatic</td>\n",
       "      <td>rwd</td>\n",
       "      <td>mid-size</td>\n",
       "      <td>sedan</td>\n",
       "      <td>white</td>\n",
       "      <td>al</td>\n",
       "      <td>other</td>\n",
       "      <td>Auto-Man</td>\n",
       "    </tr>\n",
       "    <tr>\n",
       "      <th>268</th>\n",
       "      <td>9000</td>\n",
       "      <td>2008.0</td>\n",
       "      <td>mazda</td>\n",
       "      <td>excellent</td>\n",
       "      <td>4 cylinders</td>\n",
       "      <td>gas</td>\n",
       "      <td>56700.0</td>\n",
       "      <td>clean</td>\n",
       "      <td>automatic</td>\n",
       "      <td>rwd</td>\n",
       "      <td>compact</td>\n",
       "      <td>convertible</td>\n",
       "      <td>white</td>\n",
       "      <td>al</td>\n",
       "      <td>other</td>\n",
       "      <td>Auto-Man</td>\n",
       "    </tr>\n",
       "    <tr>\n",
       "      <th>338</th>\n",
       "      <td>4000</td>\n",
       "      <td>1972.0</td>\n",
       "      <td>mercedes-benz</td>\n",
       "      <td>fair</td>\n",
       "      <td>6 cylinders</td>\n",
       "      <td>gas</td>\n",
       "      <td>88100.0</td>\n",
       "      <td>clean</td>\n",
       "      <td>automatic</td>\n",
       "      <td>rwd</td>\n",
       "      <td>full-size</td>\n",
       "      <td>coupe</td>\n",
       "      <td>silver</td>\n",
       "      <td>al</td>\n",
       "      <td>other</td>\n",
       "      <td>Auto-Man</td>\n",
       "    </tr>\n",
       "    <tr>\n",
       "      <th>355</th>\n",
       "      <td>9400</td>\n",
       "      <td>2008.0</td>\n",
       "      <td>mercedes-benz</td>\n",
       "      <td>good</td>\n",
       "      <td>6 cylinders</td>\n",
       "      <td>gas</td>\n",
       "      <td>129473.0</td>\n",
       "      <td>clean</td>\n",
       "      <td>automatic</td>\n",
       "      <td>rwd</td>\n",
       "      <td>full-size</td>\n",
       "      <td>sedan</td>\n",
       "      <td>silver</td>\n",
       "      <td>al</td>\n",
       "      <td>other</td>\n",
       "      <td>Auto-Man</td>\n",
       "    </tr>\n",
       "    <tr>\n",
       "      <th>...</th>\n",
       "      <td>...</td>\n",
       "      <td>...</td>\n",
       "      <td>...</td>\n",
       "      <td>...</td>\n",
       "      <td>...</td>\n",
       "      <td>...</td>\n",
       "      <td>...</td>\n",
       "      <td>...</td>\n",
       "      <td>...</td>\n",
       "      <td>...</td>\n",
       "      <td>...</td>\n",
       "      <td>...</td>\n",
       "      <td>...</td>\n",
       "      <td>...</td>\n",
       "      <td>...</td>\n",
       "      <td>...</td>\n",
       "    </tr>\n",
       "    <tr>\n",
       "      <th>426169</th>\n",
       "      <td>5495</td>\n",
       "      <td>2009.0</td>\n",
       "      <td>mercury</td>\n",
       "      <td>good</td>\n",
       "      <td>4 cylinders</td>\n",
       "      <td>gas</td>\n",
       "      <td>138765.0</td>\n",
       "      <td>clean</td>\n",
       "      <td>automatic</td>\n",
       "      <td>4wd</td>\n",
       "      <td>mid-size</td>\n",
       "      <td>SUV</td>\n",
       "      <td>black</td>\n",
       "      <td>wi</td>\n",
       "      <td>other</td>\n",
       "      <td>Auto-Man</td>\n",
       "    </tr>\n",
       "    <tr>\n",
       "      <th>426173</th>\n",
       "      <td>5995</td>\n",
       "      <td>2009.0</td>\n",
       "      <td>buick</td>\n",
       "      <td>good</td>\n",
       "      <td>6 cylinders</td>\n",
       "      <td>gas</td>\n",
       "      <td>168432.0</td>\n",
       "      <td>clean</td>\n",
       "      <td>automatic</td>\n",
       "      <td>fwd</td>\n",
       "      <td>full-size</td>\n",
       "      <td>sedan</td>\n",
       "      <td>red</td>\n",
       "      <td>wi</td>\n",
       "      <td>other</td>\n",
       "      <td>Auto-Man</td>\n",
       "    </tr>\n",
       "    <tr>\n",
       "      <th>426181</th>\n",
       "      <td>15995</td>\n",
       "      <td>2014.0</td>\n",
       "      <td>mercedes-benz</td>\n",
       "      <td>good</td>\n",
       "      <td>6 cylinders</td>\n",
       "      <td>gas</td>\n",
       "      <td>116431.0</td>\n",
       "      <td>clean</td>\n",
       "      <td>automatic</td>\n",
       "      <td>4wd</td>\n",
       "      <td>mid-size</td>\n",
       "      <td>sedan</td>\n",
       "      <td>black</td>\n",
       "      <td>wi</td>\n",
       "      <td>other</td>\n",
       "      <td>Auto-Man</td>\n",
       "    </tr>\n",
       "    <tr>\n",
       "      <th>426187</th>\n",
       "      <td>4295</td>\n",
       "      <td>2007.0</td>\n",
       "      <td>dodge</td>\n",
       "      <td>good</td>\n",
       "      <td>6 cylinders</td>\n",
       "      <td>gas</td>\n",
       "      <td>206546.0</td>\n",
       "      <td>clean</td>\n",
       "      <td>automatic</td>\n",
       "      <td>4wd</td>\n",
       "      <td>mid-size</td>\n",
       "      <td>SUV</td>\n",
       "      <td>black</td>\n",
       "      <td>wi</td>\n",
       "      <td>other</td>\n",
       "      <td>Auto-Man</td>\n",
       "    </tr>\n",
       "    <tr>\n",
       "      <th>426232</th>\n",
       "      <td>4995</td>\n",
       "      <td>2008.0</td>\n",
       "      <td>chevrolet</td>\n",
       "      <td>excellent</td>\n",
       "      <td>6 cylinders</td>\n",
       "      <td>gas</td>\n",
       "      <td>158768.0</td>\n",
       "      <td>clean</td>\n",
       "      <td>automatic</td>\n",
       "      <td>fwd</td>\n",
       "      <td>mid-size</td>\n",
       "      <td>sedan</td>\n",
       "      <td>brown</td>\n",
       "      <td>wi</td>\n",
       "      <td>other</td>\n",
       "      <td>Auto-Man</td>\n",
       "    </tr>\n",
       "  </tbody>\n",
       "</table>\n",
       "<p>23480 rows × 16 columns</p>\n",
       "</div>"
      ],
      "text/plain": [
       "        price    year   manufacturer  condition    cylinders fuel  odometer  \\\n",
       "215      4000  2002.0         toyota  excellent  4 cylinders  gas  155000.0   \n",
       "219      2500  1995.0            bmw       fair  6 cylinders  gas  110661.0   \n",
       "268      9000  2008.0          mazda  excellent  4 cylinders  gas   56700.0   \n",
       "338      4000  1972.0  mercedes-benz       fair  6 cylinders  gas   88100.0   \n",
       "355      9400  2008.0  mercedes-benz       good  6 cylinders  gas  129473.0   \n",
       "...       ...     ...            ...        ...          ...  ...       ...   \n",
       "426169   5495  2009.0        mercury       good  4 cylinders  gas  138765.0   \n",
       "426173   5995  2009.0          buick       good  6 cylinders  gas  168432.0   \n",
       "426181  15995  2014.0  mercedes-benz       good  6 cylinders  gas  116431.0   \n",
       "426187   4295  2007.0          dodge       good  6 cylinders  gas  206546.0   \n",
       "426232   4995  2008.0      chevrolet  excellent  6 cylinders  gas  158768.0   \n",
       "\n",
       "       title_status transmission drive       size         type paint_color  \\\n",
       "215           clean    automatic   fwd    compact        sedan        blue   \n",
       "219           clean    automatic   rwd   mid-size        sedan       white   \n",
       "268           clean    automatic   rwd    compact  convertible       white   \n",
       "338           clean    automatic   rwd  full-size        coupe      silver   \n",
       "355           clean    automatic   rwd  full-size        sedan      silver   \n",
       "...             ...          ...   ...        ...          ...         ...   \n",
       "426169        clean    automatic   4wd   mid-size          SUV       black   \n",
       "426173        clean    automatic   fwd  full-size        sedan         red   \n",
       "426181        clean    automatic   4wd   mid-size        sedan       black   \n",
       "426187        clean    automatic   4wd   mid-size          SUV       black   \n",
       "426232        clean    automatic   fwd   mid-size        sedan       brown   \n",
       "\n",
       "       state new_fuel new_transmission  \n",
       "215       al    other         Auto-Man  \n",
       "219       al    other         Auto-Man  \n",
       "268       al    other         Auto-Man  \n",
       "338       al    other         Auto-Man  \n",
       "355       al    other         Auto-Man  \n",
       "...      ...      ...              ...  \n",
       "426169    wi    other         Auto-Man  \n",
       "426173    wi    other         Auto-Man  \n",
       "426181    wi    other         Auto-Man  \n",
       "426187    wi    other         Auto-Man  \n",
       "426232    wi    other         Auto-Man  \n",
       "\n",
       "[23480 rows x 16 columns]"
      ]
     },
     "execution_count": 29,
     "metadata": {},
     "output_type": "execute_result"
    }
   ],
   "source": [
    "#7 Combine automatic and manual as their results are similar but very different than other transmission\n",
    "df1['new_transmission'] = df1['transmission'].replace(['automatic', 'manual'], 'Auto-Man')\n",
    "df1"
   ]
  },
  {
   "cell_type": "code",
   "execution_count": 30,
   "metadata": {},
   "outputs": [
    {
     "data": {
      "image/png": "[encoded data removed]",
      "text/plain": [
       "<Figure size 1200x600 with 1 Axes>"
      ]
     },
     "metadata": {},
     "output_type": "display_data"
    }
   ],
   "source": [
    "# Group the data by 'size' and calculate the mean price for each model\n",
    "model_price_mean = df1.groupby('size')['price'].mean().reset_index()\n",
    "\n",
    "# Create a bar chart\n",
    "plt.figure(figsize=(12, 6))\n",
    "plt.bar(model_price_mean['size'], model_price_mean['price'])\n",
    "plt.xlabel('Car size')\n",
    "plt.ylabel('Mean Price')\n",
    "plt.title('Mean Price by Car size')\n",
    "plt.xticks(rotation=90)  # \n",
    "plt.tight_layout()\n",
    "\n",
    "# Show the chart\n",
    "plt.show()"
   ]
  },
  {
   "cell_type": "code",
   "execution_count": 31,
   "metadata": {},
   "outputs": [
    {
     "data": {
      "image/png": "[encoded data removed]",
      "text/plain": [
       "<Figure size 1200x600 with 1 Axes>"
      ]
     },
     "metadata": {},
     "output_type": "display_data"
    }
   ],
   "source": [
    "# Group the data by 'size' and calculate the mean price for each model\n",
    "model_price_mean = df1.groupby('paint_color')['price'].mean().reset_index()\n",
    "\n",
    "# Create a bar chart\n",
    "plt.figure(figsize=(12, 6))\n",
    "plt.bar(model_price_mean['paint_color'], model_price_mean['price'])\n",
    "plt.xlabel('paint_color')\n",
    "plt.ylabel('Mean Price')\n",
    "plt.title('Mean Price by paint_color')\n",
    "plt.xticks(rotation=90)  # \n",
    "plt.tight_layout()\n",
    "\n",
    "# Show the chart\n",
    "plt.show()"
   ]
  },
  {
   "cell_type": "code",
   "execution_count": 10,
   "metadata": {},
   "outputs": [
    {
     "name": "stdout",
     "output_type": "stream",
     "text": [
      "<class 'pandas.core.frame.DataFrame'>\n",
      "Int64Index: 29862 entries, 126 to 426833\n",
      "Data columns (total 16 columns):\n",
      " #   Column            Non-Null Count  Dtype  \n",
      "---  ------            --------------  -----  \n",
      " 0   price             29862 non-null  int64  \n",
      " 1   year              29862 non-null  float64\n",
      " 2   manufacturer      29862 non-null  object \n",
      " 3   condition         29862 non-null  object \n",
      " 4   cylinders         29862 non-null  object \n",
      " 5   fuel              29862 non-null  object \n",
      " 6   odometer          29862 non-null  float64\n",
      " 7   title_status      29862 non-null  object \n",
      " 8   transmission      29862 non-null  object \n",
      " 9   drive             29862 non-null  object \n",
      " 10  size              29862 non-null  object \n",
      " 11  type              29862 non-null  object \n",
      " 12  paint_color       29862 non-null  object \n",
      " 13  state             29862 non-null  object \n",
      " 14  new_transmission  29862 non-null  object \n",
      " 15  new_fuel          29862 non-null  object \n",
      "dtypes: float64(2), int64(1), object(13)\n",
      "memory usage: 3.9+ MB\n"
     ]
    }
   ],
   "source": [
    "df1.info()"
   ]
  },
  {
   "cell_type": "markdown",
   "metadata": {},
   "source": [
    "Based on the impact on the carsize Analysis will be split into 3 different groups, compact, combined mid size-subcompact and full size.\n"
   ]
  },
  {
   "cell_type": "code",
   "execution_count": 32,
   "metadata": {},
   "outputs": [],
   "source": [
    "# 8 split analysis by size because this is how regulary people see the vehicles and it is good way to group the data\n",
    "df_com = df1[df1['size'] == 'compact']\n",
    "df_mid = df1[df1['size'].isin(['sub-compact', 'mid-size'])]\n",
    "df_full = df1[df1['size'] == 'full-size']\n"
   ]
  },
  {
   "cell_type": "markdown",
   "metadata": {},
   "source": [
    "### Modeling\n",
    "\n",
    "With your (almost?) final dataset in hand, it is now time to build some models.  Here, you should build a number of different regression models with the price as the target.  In building your models, you should explore different parameters and be sure to cross-validate your findings."
   ]
  },
  {
   "cell_type": "markdown",
   "metadata": {},
   "source": [
    "For model selection the MSE train and MSE test will be used to select the best model and the features, in addition to the evaluation of the results that make sense in regards to the data.The MSE metrics is used based on the reduction of the prediction error of the model in this case this is not prediction model but an understanding of the historical data"
   ]
  },
  {
   "cell_type": "markdown",
   "metadata": {},
   "source": [
    "SIZE COMPACT CARS"
   ]
  },
  {
   "cell_type": "code",
   "execution_count": 61,
   "metadata": {},
   "outputs": [
    {
     "name": "stdout",
     "output_type": "stream",
     "text": [
      "Correlation Matrix (Training Data):\n",
      "log_price                          1.000000\n",
      "cat__cylinders_4 cylinders         0.455798\n",
      "cat__drive_fwd                     0.341642\n",
      "cat__type_SUV                      0.183379\n",
      "num__odometer                      0.129987\n",
      "cat__type_hatchback                0.121399\n",
      "cat__state_ca                      0.115526\n",
      "cat__type_coupe                    0.113584\n",
      "cat__manufacturer_chevrolet        0.111963\n",
      "cat__manufacturer_toyota           0.111754\n",
      "cat__state_or                      0.102984\n",
      "cat__type_convertible              0.096900\n",
      "cat__manufacturer_ford             0.096893\n",
      "cat__paint_color_red               0.093961\n",
      "cat__state_ny                      0.091599\n",
      "cat__manufacturer_honda            0.087151\n",
      "cat__drive_rwd                     0.076537\n",
      "cat__state_tx                      0.072581\n",
      "cat__manufacturer_volkswagen       0.069417\n",
      "cat__state_mi                      0.066450\n",
      "cat__manufacturer_subaru           0.065765\n",
      "cat__state_ia                      0.064414\n",
      "cat__state_oh                      0.062662\n",
      "cat__manufacturer_buick            0.062429\n",
      "cat__state_id                      0.062040\n",
      "cat__state_az                      0.061949\n",
      "cat__state_nj                      0.061813\n",
      "cat__manufacturer_kia              0.060303\n",
      "cat__manufacturer_hyundai          0.059681\n",
      "cat__state_vt                      0.057875\n",
      "cat__manufacturer_mini             0.052925\n",
      "cat__paint_color_yellow            0.052522\n",
      "cat__state_pa                      0.051542\n",
      "cat__state_ks                      0.051282\n",
      "cat__manufacturer_cadillac         0.048952\n",
      "cat__state_wi                      0.048589\n",
      "cat__state_co                      0.048047\n",
      "cat__paint_color_brown             0.046905\n",
      "cat__state_ok                      0.046467\n",
      "cat__state_in                      0.045819\n",
      "cat__state_ri                      0.045710\n",
      "cat__state_sc                      0.043751\n",
      "cat__paint_color_custom            0.041561\n",
      "cat__manufacturer_mazda            0.040035\n",
      "cat__state_wa                      0.038773\n",
      "cat__paint_color_green             0.038109\n",
      "cat__state_nc                      0.037387\n",
      "cat__state_ma                      0.037194\n",
      "cat__paint_color_grey              0.036590\n",
      "ord2__condition                    0.035959\n",
      "cat__state_ne                      0.035882\n",
      "cat__state_il                      0.035232\n",
      "cat__state_va                      0.035176\n",
      "cat__state_mn                      0.034404\n",
      "cat__paint_color_blue              0.034215\n",
      "cat__state_ky                      0.032977\n",
      "cat__state_ga                      0.032540\n",
      "cat__state_mt                      0.032438\n",
      "cat__state_nv                      0.030732\n",
      "cat__cylinders_other               0.030726\n",
      "cat__state_nm                      0.030191\n",
      "cat__state_al                      0.028072\n",
      "cat__paint_color_orange            0.026965\n",
      "cat__state_la                      0.026015\n",
      "cat__type_pickup                   0.025122\n",
      "cat__state_me                      0.022906\n",
      "cat__state_md                      0.021825\n",
      "cat__cylinders_5 cylinders         0.021809\n",
      "cat__manufacturer_pontiac          0.021483\n",
      "cat__cylinders_3 cylinders         0.021420\n",
      "cat__manufacturer_volvo            0.021210\n",
      "cat__manufacturer_gmc              0.020310\n",
      "cat__state_ut                      0.019954\n",
      "cat__state_sd                      0.019863\n",
      "cat__type_offroad                  0.019107\n",
      "cat__manufacturer_datsun           0.018033\n",
      "cat__state_nh                      0.016776\n",
      "cat__type_other                    0.016663\n",
      "cat__state_ct                      0.016521\n",
      "cat__state_mo                      0.016389\n",
      "cat__state_ar                      0.014847\n",
      "cat__type_mini-van                 0.014092\n",
      "cat__state_nd                      0.013134\n",
      "cat__paint_color_purple            0.012373\n",
      "cat__state_ms                      0.012117\n",
      "cat__manufacturer_jaguar           0.011177\n",
      "cat__type_van                      0.008503\n",
      "cat__manufacturer_mitsubishi       0.008145\n",
      "cat__manufacturer_saturn           0.007293\n",
      "cat__manufacturer_mercury          0.005458\n",
      "cat__manufacturer_fiat             0.005410\n",
      "cat__manufacturer_nissan          -0.001446\n",
      "cat__paint_color_black            -0.002546\n",
      "cat__manufacturer_chrysler        -0.006790\n",
      "cat__state_wv                     -0.015504\n",
      "cat__new_fuel_other               -0.020367\n",
      "cat__manufacturer_acura           -0.032323\n",
      "cat__manufacturer_audi            -0.043402\n",
      "cat__paint_color_silver           -0.066307\n",
      "cat__manufacturer_jeep            -0.066365\n",
      "ord__title_status                 -0.074607\n",
      "cat__manufacturer_lincoln         -0.087244\n",
      "cat__manufacturer_infiniti        -0.117035\n",
      "cat__type_sedan                   -0.124258\n",
      "cat__paint_color_white            -0.126233\n",
      "cat__cylinders_6 cylinders        -0.126568\n",
      "num__year                         -0.133974\n",
      "cat__manufacturer_lexus           -0.146320\n",
      "cat__cylinders_8 cylinders        -0.158923\n",
      "cat__manufacturer_bmw             -0.175166\n",
      "cat__manufacturer_dodge           -0.240345\n",
      "cat__manufacturer_mercedes-benz   -0.283539\n",
      "cat__type_wagon                   -0.384860\n",
      "cat__drive_4wd                    -0.426973\n",
      "cat__cylinders_10 cylinders       -0.598953\n",
      "cat__state_fl                     -0.685500\n",
      "cat__new_transmission_other       -0.709647\n",
      "Name: log_price, dtype: float64\n",
      "\n",
      "Correlation Matrix (Testing Data):\n",
      "log_price                          1.000000\n",
      "cat__cylinders_4 cylinders         0.451717\n",
      "cat__drive_fwd                     0.363645\n",
      "cat__type_SUV                      0.175707\n",
      "cat__state_ca                      0.153080\n",
      "cat__type_hatchback                0.128386\n",
      "cat__type_coupe                    0.116740\n",
      "cat__manufacturer_chevrolet        0.114890\n",
      "cat__manufacturer_toyota           0.113572\n",
      "cat__manufacturer_ford             0.112273\n",
      "cat__drive_rwd                     0.110906\n",
      "cat__state_or                      0.108171\n",
      "cat__paint_color_red               0.102997\n",
      "cat__type_convertible              0.094134\n",
      "cat__manufacturer_volkswagen       0.088051\n",
      "num__odometer                      0.086076\n",
      "cat__manufacturer_honda            0.081831\n",
      "cat__state_ny                      0.081018\n",
      "cat__state_az                      0.075515\n",
      "cat__state_id                      0.073023\n",
      "cat__state_oh                      0.072606\n",
      "cat__state_tx                      0.070027\n",
      "cat__manufacturer_kia              0.068165\n",
      "cat__state_mi                      0.066024\n",
      "cat__state_nj                      0.065779\n",
      "cat__state_wi                      0.064711\n",
      "cat__state_vt                      0.060897\n",
      "cat__paint_color_custom            0.060090\n",
      "cat__state_ia                      0.058158\n",
      "cat__manufacturer_buick            0.055938\n",
      "cat__manufacturer_hyundai          0.055813\n",
      "cat__paint_color_brown             0.053399\n",
      "cat__manufacturer_mini             0.053106\n",
      "cat__state_pa                      0.052368\n",
      "cat__paint_color_blue              0.051753\n",
      "cat__paint_color_black             0.051302\n",
      "cat__state_ok                      0.049579\n",
      "cat__manufacturer_mazda            0.048356\n",
      "cat__state_ks                      0.047672\n",
      "cat__state_ma                      0.046591\n",
      "cat__type_pickup                   0.045860\n",
      "cat__state_ky                      0.045709\n",
      "ord2__condition                    0.044844\n",
      "cat__state_mt                      0.044325\n",
      "cat__state_in                      0.043890\n",
      "cat__paint_color_orange            0.043601\n",
      "cat__state_nc                      0.042518\n",
      "cat__state_va                      0.042251\n",
      "cat__manufacturer_cadillac         0.042239\n",
      "cat__state_nm                      0.041404\n",
      "cat__paint_color_yellow            0.037079\n",
      "cat__state_il                      0.036338\n",
      "cat__cylinders_3 cylinders         0.035804\n",
      "cat__cylinders_other               0.035186\n",
      "cat__paint_color_green             0.035176\n",
      "cat__cylinders_5 cylinders         0.034850\n",
      "cat__state_co                      0.034676\n",
      "cat__type_mini-van                 0.033765\n",
      "cat__manufacturer_volvo            0.033698\n",
      "cat__state_sc                      0.032431\n",
      "cat__manufacturer_pontiac          0.031117\n",
      "cat__state_ga                      0.028107\n",
      "cat__manufacturer_gmc              0.027483\n",
      "cat__state_sd                      0.027480\n",
      "cat__paint_color_purple            0.025056\n",
      "cat__state_ri                      0.023746\n",
      "cat__manufacturer_jaguar           0.022161\n",
      "cat__type_van                      0.021946\n",
      "cat__state_al                      0.021703\n",
      "cat__state_nd                      0.021547\n",
      "cat__state_mn                      0.020845\n",
      "cat__state_wa                      0.020298\n",
      "cat__type_other                    0.019830\n",
      "cat__state_la                      0.018357\n",
      "cat__state_ar                      0.017919\n",
      "cat__state_wv                      0.016885\n",
      "cat__manufacturer_fiat             0.016791\n",
      "cat__state_mo                      0.016298\n",
      "cat__type_offroad                  0.015154\n",
      "cat__state_ne                      0.014516\n",
      "cat__state_nv                      0.014347\n",
      "cat__state_ut                      0.013863\n",
      "cat__manufacturer_saturn           0.011851\n",
      "cat__manufacturer_mercury          0.010932\n",
      "cat__state_me                      0.010841\n",
      "cat__state_ct                      0.010253\n",
      "cat__state_md                      0.004676\n",
      "cat__state_nh                      0.000890\n",
      "cat__manufacturer_subaru          -0.005425\n",
      "cat__manufacturer_nissan          -0.010961\n",
      "cat__manufacturer_acura           -0.012074\n",
      "cat__paint_color_grey             -0.012232\n",
      "cat__manufacturer_mitsubishi      -0.017705\n",
      "cat__manufacturer_chrysler        -0.019604\n",
      "cat__manufacturer_audi            -0.026448\n",
      "cat__manufacturer_lincoln         -0.032671\n",
      "cat__new_fuel_other               -0.034500\n",
      "cat__manufacturer_infiniti        -0.064421\n",
      "ord__title_status                 -0.075735\n",
      "cat__manufacturer_lexus           -0.077592\n",
      "cat__paint_color_silver           -0.091981\n",
      "cat__type_sedan                   -0.139533\n",
      "cat__paint_color_white            -0.139634\n",
      "num__year                         -0.140093\n",
      "cat__cylinders_6 cylinders        -0.145453\n",
      "cat__manufacturer_jeep            -0.204827\n",
      "cat__manufacturer_bmw             -0.207765\n",
      "cat__manufacturer_mercedes-benz   -0.225172\n",
      "cat__cylinders_8 cylinders        -0.236508\n",
      "cat__manufacturer_dodge           -0.269961\n",
      "cat__type_wagon                   -0.356365\n",
      "cat__drive_4wd                    -0.479879\n",
      "cat__cylinders_10 cylinders       -0.521783\n",
      "cat__state_fl                     -0.714795\n",
      "cat__new_transmission_other       -0.786341\n",
      "cat__manufacturer_datsun                NaN\n",
      "cat__state_ms                           NaN\n",
      "Name: log_price, dtype: float64\n"
     ]
    }
   ],
   "source": [
    "# model by size\n",
    "# split x and y\n",
    "# fuel and transmission replace by new fuel and new transmission\n",
    "# Model for Compact Cars\n",
    "# use the log transformation on price\n",
    "# converting to Ordinal title status and conditions \n",
    "\n",
    "warnings.filterwarnings(\"ignore\", category=FutureWarning)\n",
    "X_train, X_test, y_train, y_test = train_test_split(\n",
    "    df_com.drop(['price', 'size', 'transmission', 'fuel'], axis=1),\n",
    "    np.log1p(df_com['price']), \n",
    "    random_state=42,\n",
    "    test_size=0.3\n",
    ")\n",
    "\n",
    "vehicle_oc_transformer = ColumnTransformer(\n",
    "    transformers=[\n",
    "        ('num', StandardScaler(), ['odometer', 'year']), \n",
    "        ('cat', OneHotEncoder(drop='if_binary', sparse=False, handle_unknown='ignore'), ['manufacturer', 'cylinders', 'new_fuel', 'new_transmission', 'drive', 'type', 'state', 'paint_color']),\n",
    "        ('ord', OrdinalEncoder(categories=[['parts only', 'missing', 'salvage', 'rebuilt', 'lien', 'clean']]), ['title_status']),\n",
    "        ('ord2', OrdinalEncoder(categories=[['salvage', 'fair', 'good', 'excellent', 'like new', 'new']]), ['condition']),\n",
    "  ],\n",
    "    remainder='passthrough'\n",
    ")\n",
    "\n",
    "# Create a pipeline with the transformer and a LinearRegression model\n",
    "pipe = Pipeline([\n",
    "    ('preprocessor', vehicle_oc_transformer),\n",
    "    ('regressor', LinearRegression())\n",
    "])\n",
    "pipe.fit(X_train, y_train)\n",
    "\n",
    "# Transform both training and testing data using the fitted preprocessor\n",
    "X_train_transformed = pipe.named_steps['preprocessor'].transform(X_train)\n",
    "X_test_transformed = pipe.named_steps['preprocessor'].transform(X_test)\n",
    "\n",
    "# Create DataFrames for the transformed data\n",
    "columns = vehicle_oc_transformer.get_feature_names_out()\n",
    "df_train_transformed = pd.DataFrame(X_train_transformed, columns=columns, index=X_train.index)\n",
    "df_test_transformed = pd.DataFrame(X_test_transformed, columns=columns, index=X_test.index)\n",
    "\n",
    "# Add the log-transformed target variable to the DataFrames\n",
    "df_train_transformed['log_price'] = y_train\n",
    "df_test_transformed['log_price'] = y_test\n",
    "\n",
    "# Compute the correlation coefficients\n",
    "correlation_train = df_train_transformed.corr()\n",
    "correlation_test = df_test_transformed.corr()\n",
    "\n",
    "pd.set_option('display.max_rows', None)\n",
    "pd.set_option('display.max_columns', None)\n",
    "\n",
    "# Print or analyze the correlation coefficients\n",
    "print(\"Correlation Matrix (Training Data):\")\n",
    "print(correlation_train['log_price'].sort_values(ascending=False))\n",
    "\n",
    "print(\"\\nCorrelation Matrix (Testing Data):\")\n",
    "print(correlation_test['log_price'].sort_values(ascending=False))"
   ]
  },
  {
   "cell_type": "markdown",
   "metadata": {},
   "source": [
    "Based on the correlation analysis paint_color can be removed from the analysis"
   ]
  },
  {
   "cell_type": "markdown",
   "metadata": {},
   "source": [
    "Linear Regression"
   ]
  },
  {
   "cell_type": "code",
   "execution_count": 45,
   "metadata": {},
   "outputs": [
    {
     "name": "stdout",
     "output_type": "stream",
     "text": [
      "Selected Features:\n",
      "                      Feature  Coefficient\n",
      "6             cat__type_wagon    -1.481572\n",
      "0     cat__manufacturer_acura    -0.789307\n",
      "2  cat__cylinders_4 cylinders     0.693485\n",
      "5              cat__drive_rwd     0.367057\n",
      "3  cat__cylinders_6 cylinders     0.360232\n",
      "8               cat__state_ia     0.235330\n",
      "7               cat__state_ar     0.176383\n",
      "1      cat__manufacturer_ford     0.031966\n",
      "4              cat__drive_fwd     0.000886\n",
      "9                  poly__year    -0.000844\n",
      "MSE (Train): 1.4656450724126913\n",
      "MSE (Test): 1.4710815090277851\n"
     ]
    }
   ],
   "source": [
    "# split x and y\n",
    "# fuel and transmission replace by new fuel and new transmission\n",
    "# use the log transformation on price\n",
    "# converting to Ordinal title status and conditions \n",
    "# Model for compact cars \n",
    "\n",
    "X_train, X_test, y_train, y_test = train_test_split(\n",
    "    df_com.drop(['price', 'paint_color', 'size', 'transmission', 'fuel'], axis=1),\n",
    "    np.log1p(df_com['price']), \n",
    "    random_state=42,\n",
    "    test_size=0.3\n",
    ")\n",
    "\n",
    "vehicle_oc_transformer = ColumnTransformer(\n",
    "    transformers=[\n",
    "        ('cat', OneHotEncoder(drop='if_binary', sparse=False, handle_unknown='ignore'), ['manufacturer', 'cylinders', 'new_fuel', 'new_transmission', 'drive', 'type', 'state']),  # 'paint_color' removed\n",
    "        ('ord', OrdinalEncoder(categories=[['parts only', 'missing', 'salvage', 'rebuilt', 'lien', 'clean']]), ['title_status']),\n",
    "        ('ord2', OrdinalEncoder(categories=[['salvage', 'fair', 'good', 'excellent', 'like new', 'new']]), ['condition']),\n",
    "        ('poly', PolynomialFeatures(include_bias=False, interaction_only=True), ['odometer', 'year'])\n",
    "    ],\n",
    "    remainder='passthrough'\n",
    ")\n",
    "\n",
    "pipe = Pipeline([\n",
    "    ('preprocessor', vehicle_oc_transformer),\n",
    "    ('regressor', LinearRegression())\n",
    "])\n",
    "\n",
    "# Fit the pipeline on the training data\n",
    "pipe.fit(X_train, y_train)\n",
    "\n",
    "# Evaluate the model on the training data\n",
    "y_train_pred = pipe.predict(X_train)\n",
    "mse_train = mean_squared_error(y_train, y_train_pred)\n",
    "\n",
    "# Evaluate the model on the test data\n",
    "y_test_pred = pipe.predict(X_test)\n",
    "mse_test = mean_squared_error(y_test, y_test_pred)\n",
    "\n",
    "# Get feature names after preprocessing\n",
    "feature_names = vehicle_oc_transformer.get_feature_names_out()\n",
    "\n",
    "# Get the coefficients from the LinearRegression model\n",
    "coefficients = pipe.named_steps['regressor'].coef_\n",
    "\n",
    "# Create a DataFrame with feature names and coefficients\n",
    "coef_df = pd.DataFrame({'Feature': feature_names, 'Coefficient': coefficients})\n",
    "\n",
    "coef_df = coef_df.reindex(coef_df['Coefficient'].abs().sort_values(ascending=False).index)\n",
    "\n",
    "pd.set_option('display.max_rows', None)\n",
    "pd.set_option('display.max_columns', None)\n",
    "\n",
    "# Sequential Feature Selector\n",
    "sfs = SequentialFeatureSelector(pipe.named_steps['regressor'], n_features_to_select=10, direction='forward')\n",
    "sfs.fit(X_train_transformed, y_train)\n",
    "\n",
    "selected_feature_indices = sfs.get_support(indices=True)\n",
    "selected_feature_names = [feature_names[i] for i in selected_feature_indices]\n",
    "selected_coefficients = [coefficients[i] for i in selected_feature_indices]\n",
    "\n",
    "selected_coef_df = pd.DataFrame({'Feature': selected_feature_names, 'Coefficient': selected_coefficients})\n",
    "\n",
    "selected_coef_df = selected_coef_df.reindex(selected_coef_df['Coefficient'].abs().sort_values(ascending=False).index)\n",
    "\n",
    "print(\"Selected Features:\")\n",
    "print(selected_coef_df)\n",
    "print(f'MSE (Train): {mse_train}')\n",
    "print(f'MSE (Test): {mse_test}')"
   ]
  },
  {
   "cell_type": "markdown",
   "metadata": {},
   "source": [
    "Top 10 features on compact cars :\n",
    "-type wagon has a negative impact on price\n",
    "-manufacturer acura has a negative impact on price\n",
    "-manufacturer ford has a positive impact on price\n",
    "-cylinder 4 or 6 cylinder vehicle positive impact  on prices\n",
    "-drive rwd has positive impact on price\n",
    "-state ia and ar have a positive impact on price\n"
   ]
  },
  {
   "cell_type": "markdown",
   "metadata": {},
   "source": [
    "GridSearchCV"
   ]
  },
  {
   "cell_type": "code",
   "execution_count": 43,
   "metadata": {},
   "outputs": [
    {
     "name": "stdout",
     "output_type": "stream",
     "text": [
      "Fitting 5 folds for each of 5 candidates, totalling 25 fits\n",
      "Best Alpha: 10\n",
      "MSE (Train): 1.5044293847326613\n",
      "MSE (Test): 1.4139159015133458\n"
     ]
    }
   ],
   "source": [
    "# split x and y\n",
    "# fuel and transmission replace by new fuel and new transmission\n",
    "# Model for Compact Cars\n",
    "# use the log transformation on price\n",
    "# converting to Ordinal title status and conditions \n",
    "\n",
    "warnings.filterwarnings(\"ignore\", category=FutureWarning)\n",
    "\n",
    "X_train, X_test, y_train, y_test = train_test_split(\n",
    "    df_com.drop(['price', 'paint_color', 'size', 'transmission', 'fuel'], axis=1),\n",
    "    np.log1p(df_com['price']), \n",
    "    random_state=42,\n",
    "    test_size=0.3\n",
    ")\n",
    "\n",
    "vehicle_oc_transformer = ColumnTransformer(\n",
    "    transformers=[\n",
    "        ('num', StandardScaler(), ['odometer', 'year']), \n",
    "        ('cat', OneHotEncoder(drop='if_binary', sparse=False, handle_unknown='ignore'), ['manufacturer', 'cylinders', 'new_fuel', 'new_transmission', 'drive', 'type', 'state']),\n",
    "        ('ord', OrdinalEncoder(categories=[['parts only', 'missing', 'salvage', 'rebuilt', 'lien', 'clean']]), ['title_status']),\n",
    "        ('ord2', OrdinalEncoder(categories=[['salvage', 'fair', 'good', 'excellent', 'like new', 'new']]), ['condition']),\n",
    "    ],\n",
    "    remainder='passthrough'\n",
    ")\n",
    "\n",
    "# Define the alpha values to search for\n",
    "alphas = [0.1, 1, 10, 100, 1000]\n",
    "\n",
    "# Create a parameter grid for GridSearchCV\n",
    "param_grid = {\n",
    "    'ridge__alpha': alphas\n",
    "}\n",
    "\n",
    "# Create a Ridge regression pipeline\n",
    "ridge_pipe = Pipeline([\n",
    "    ('preprocessor', vehicle_oc_transformer),\n",
    "    ('ridge', Ridge())\n",
    "])\n",
    "\n",
    "# Create GridSearchCV object\n",
    "grid_2 = GridSearchCV(ridge_pipe, param_grid, cv=5, scoring='neg_mean_squared_error', verbose=1)\n",
    "\n",
    "# Fit the GridSearchCV on the training data\n",
    "grid_2.fit(X_train, y_train)\n",
    "\n",
    "# Get the best estimator and display the results\n",
    "best_estimator = grid_2.best_estimator_\n",
    "y_train_pred = best_estimator.predict(X_train)\n",
    "y_test_pred = best_estimator.predict(X_test)\n",
    "\n",
    "mse_train = mean_squared_error(y_train, y_train_pred)\n",
    "mse_test = mean_squared_error(y_test, y_test_pred)\n",
    "\n",
    "print(\"Best Alpha:\", grid_2.best_params_['ridge__alpha'])\n",
    "print(f'MSE (Train): {mse_train}')\n",
    "print(f'MSE (Test): {mse_test}')"
   ]
  },
  {
   "cell_type": "markdown",
   "metadata": {},
   "source": [
    "RIDGE "
   ]
  },
  {
   "cell_type": "code",
   "execution_count": 35,
   "metadata": {},
   "outputs": [
    {
     "name": "stdout",
     "output_type": "stream",
     "text": [
      "                        Feature  Coefficient\n",
      "42  cat__new_transmission_other    -3.482052\n",
      "34  cat__cylinders_10 cylinders    -2.469715\n",
      "41          cat__new_fuel_other     2.177969\n",
      "45               cat__drive_rwd     1.903151\n",
      "36   cat__cylinders_4 cylinders     1.649928\n",
      "44               cat__drive_fwd     1.555822\n",
      "63                cat__state_fl    -1.548581\n",
      "40         cat__cylinders_other     1.352495\n",
      "38   cat__cylinders_6 cylinders     1.280129\n",
      "43               cat__drive_4wd     1.101613\n",
      "MSE (Train): 1.5751367725136802\n",
      "MSE (Test): 1.5268829224031786\n"
     ]
    }
   ],
   "source": [
    "# split x and y\n",
    "# fuel and transmission replace by new fuel and new transmission\n",
    "# use the log transformation on price\n",
    "# converting to Ordinal title status and conditions \n",
    "# compact cars Ridge - alpha = 10 from GridSearch\n",
    "\n",
    "warnings.filterwarnings(\"ignore\", category=FutureWarning)\n",
    "X_train, X_test, y_train, y_test = train_test_split(\n",
    "    df_com.drop(['price', 'paint_color', 'size', 'transmission', 'fuel'], axis=1),\n",
    "    np.log1p(df_com['price']), \n",
    "    random_state=42,\n",
    "    test_size=0.3\n",
    ")\n",
    "\n",
    "vehicle_oc_transformer = ColumnTransformer(\n",
    "    transformers=[\n",
    "        ('num', StandardScaler(), ['odometer', 'year']),  \n",
    "        ('cat', OneHotEncoder(drop='if_binary', sparse=False, handle_unknown='ignore'), ['manufacturer', 'cylinders', 'new_fuel', 'new_transmission', 'drive', 'type', 'state']),\n",
    "        ('ord', OrdinalEncoder(categories=[['parts only', 'missing', 'salvage', 'rebuilt', 'lien', 'clean']]), ['title_status']),\n",
    "        ('ord2', OrdinalEncoder(categories=[['salvage', 'fair', 'good', 'excellent', 'like new', 'new']]), ['condition']),\n",
    "        \n",
    "    ],\n",
    "    remainder='passthrough'\n",
    ")\n",
    "\n",
    "# Create a Ridge regression pipeline without an intercept\n",
    "ridge_pipe = Pipeline([\n",
    "    ('preprocessor', vehicle_oc_transformer),\n",
    "    ('ridge', Ridge(alpha=10, fit_intercept=False))\n",
    "])\n",
    "# Fit the pipeline on the training data\n",
    "ridge_pipe.fit(X_train, y_train)\n",
    "\n",
    "# Predict on training and test data\n",
    "y_train_pred = ridge_pipe.predict(X_train)\n",
    "y_test_pred = ridge_pipe.predict(X_test)\n",
    "\n",
    "mse_train = mean_squared_error(y_train, y_train_pred)\n",
    "mse_test = mean_squared_error(y_test, y_test_pred)\n",
    "\n",
    "# Get feature names after preprocessing from the ColumnTransformer\n",
    "feature_names = vehicle_oc_transformer.get_feature_names_out()\n",
    "\n",
    "# Get the coefficients from the Ridge regression model\n",
    "coefficients = ridge_pipe.named_steps['ridge'].coef_\n",
    "\n",
    "# The number of feature names and coefficients should match now\n",
    "feature_names_length = len(feature_names)\n",
    "coefficients_length = len(coefficients)\n",
    "\n",
    "# Create a DataFrame to store feature names and coefficients\n",
    "coef_df = pd.DataFrame({'Feature': feature_names, 'Coefficient': coefficients})\n",
    "\n",
    "# Sort the coefficients from biggest to smallest\n",
    "coef_df = coef_df.reindex(coef_df['Coefficient'].abs().sort_values(ascending=False).index)\n",
    "\n",
    "# Select the top 10 features\n",
    "top_10_features = coef_df.head(10)\n",
    "\n",
    "# Display the selected features and their coefficients\n",
    "print(top_10_features)\n",
    "print(f'MSE (Train): {mse_train}')\n",
    "print(f'MSE (Test): {mse_test}')"
   ]
  },
  {
   "cell_type": "markdown",
   "metadata": {},
   "source": [
    "Top 10 features for compact cars Rigde model:\n",
    "-cylinder 10 cylinders negative impact on price\n",
    "-cylinder 6 and 4 and other have positive impact on price\n",
    "-Fuel - non diesel has positive impact on price\n",
    "-transmission no manual or no automatic has a negative impact on price\n",
    "-drive rwd, fwd and 4wd has positive impact on price\n",
    "-state:fl has negative impact on price"
   ]
  },
  {
   "cell_type": "markdown",
   "metadata": {},
   "source": [
    "Lasso"
   ]
  },
  {
   "cell_type": "code",
   "execution_count": 49,
   "metadata": {},
   "outputs": [
    {
     "name": "stdout",
     "output_type": "stream",
     "text": [
      "Selected Features:\n",
      "                       Feature  Coefficient\n",
      "0                num__odometer          0.0\n",
      "1                    num__year         -0.0\n",
      "2      cat__manufacturer_acura         -0.0\n",
      "3       cat__manufacturer_audi         -0.0\n",
      "4        cat__manufacturer_bmw         -0.0\n",
      "5      cat__manufacturer_buick          0.0\n",
      "6   cat__manufacturer_cadillac          0.0\n",
      "7  cat__manufacturer_chevrolet          0.0\n",
      "8   cat__manufacturer_chrysler         -0.0\n",
      "9     cat__manufacturer_datsun          0.0\n",
      "MSE (Train): 7.498098751499777\n",
      "MSE (Test): 7.775487696768096\n"
     ]
    }
   ],
   "source": [
    "# split x and y\n",
    "# fuel and transmission replace by new fuel and new transmission\n",
    "# use the log transformation on price\n",
    "# converting to Ordinal title status and conditions \n",
    "# compact cars lasso model\n",
    "\n",
    "warnings.filterwarnings(\"ignore\", category=FutureWarning)\n",
    "X_train, X_test, y_train, y_test = train_test_split(\n",
    "    df_com.drop(['price', 'paint_color', 'size', 'transmission', 'fuel'], axis=1),\n",
    "    np.log1p(df_com['price']), \n",
    "    random_state=42,\n",
    "    test_size=0.3\n",
    ")\n",
    "\n",
    "vehicle_oc_transformer = ColumnTransformer(\n",
    "    transformers=[\n",
    "        ('num', StandardScaler(), ['odometer', 'year']),\n",
    "        ('cat', OneHotEncoder(drop='if_binary', sparse=False, handle_unknown='ignore'), ['manufacturer', 'cylinders', 'new_fuel', 'new_transmission', 'drive', 'type', 'state']),\n",
    "        ('ord', OrdinalEncoder(categories=[['parts only', 'missing', 'salvage', 'rebuilt', 'lien', 'clean']]), ['title_status']),\n",
    "        ('ord2', OrdinalEncoder(categories=[['salvage', 'fair', 'good', 'excellent', 'like new', 'new']]), ['condition']),\n",
    "    ],\n",
    "    remainder='passthrough'\n",
    ")\n",
    "\n",
    "pipe = Pipeline([\n",
    "    ('preprocessor', vehicle_oc_transformer),\n",
    "    ('regressor', Lasso(alpha=10)) \n",
    "])\n",
    "\n",
    "# Fit the pipeline on the training data\n",
    "pipe.fit(X_train, y_train)\n",
    "\n",
    "# Evaluate the model on the training data\n",
    "y_train_pred = pipe.predict(X_train)\n",
    "mse_train = mean_squared_error(y_train, y_train_pred)\n",
    "\n",
    "# Evaluate the model on the test data\n",
    "y_test_pred = pipe.predict(X_test)\n",
    "mse_test = mean_squared_error(y_test, y_test_pred)\n",
    "\n",
    "# Get feature names after preprocessing\n",
    "feature_names = vehicle_oc_transformer.get_feature_names_out()\n",
    "\n",
    "# Get the coefficients from the Lasso model\n",
    "coefficients = pipe.named_steps['regressor'].coef_\n",
    "\n",
    "# Create a DataFrame with feature names and coefficients\n",
    "coef_df = pd.DataFrame({'Feature': feature_names, 'Coefficient': coefficients})\n",
    "\n",
    "coef_df = coef_df.reindex(coef_df['Coefficient'].abs().sort_values(ascending=False).index)\n",
    "\n",
    "pd.set_option('display.max_rows', None)\n",
    "pd.set_option('display.max_columns', None)\n",
    "\n",
    "# Sequential Feature Selector\n",
    "sfs = SequentialFeatureSelector(pipe.named_steps['regressor'], n_features_to_select=10, direction='forward')\n",
    "sfs.fit(X_train_transformed, y_train)\n",
    "\n",
    "selected_feature_indices = sfs.get_support(indices=True)\n",
    "selected_feature_names = [feature_names[i] for i in selected_feature_indices]\n",
    "selected_coefficients = [coefficients[i] for i in selected_feature_indices]\n",
    "\n",
    "selected_coef_df = pd.DataFrame({'Feature': selected_feature_names, 'Coefficient': selected_coefficients})\n",
    "\n",
    "selected_coef_df = selected_coef_df.reindex(selected_coef_df['Coefficient'].abs().sort_values(ascending=False).index)\n",
    "\n",
    "print(\"Selected Features:\")\n",
    "print(selected_coef_df)\n",
    "print(f'MSE (Train): {mse_train}')\n",
    "print(f'MSE (Test): {mse_test}')"
   ]
  },
  {
   "cell_type": "markdown",
   "metadata": {},
   "source": [
    "Lasso does not provide better results as MSE is considerable higher than other models"
   ]
  },
  {
   "cell_type": "markdown",
   "metadata": {},
   "source": [
    "Based on MSE results for Compact cars the best model is the linear regression "
   ]
  },
  {
   "cell_type": "markdown",
   "metadata": {},
   "source": [
    "MID Size Models"
   ]
  },
  {
   "cell_type": "markdown",
   "metadata": {},
   "source": [
    "Linear Regression"
   ]
  },
  {
   "cell_type": "code",
   "execution_count": 50,
   "metadata": {},
   "outputs": [
    {
     "name": "stdout",
     "output_type": "stream",
     "text": [
      "Selected Features:\n",
      "                      Feature  Coefficient\n",
      "2  cat__cylinders_3 cylinders    -0.700816\n",
      "8               cat__state_fl    -0.594263\n",
      "0     cat__manufacturer_acura     0.390866\n",
      "7             cat__type_wagon    -0.314783\n",
      "6             cat__type_sedan    -0.267150\n",
      "5              cat__drive_fwd    -0.210364\n",
      "9             ord2__condition     0.134202\n",
      "4              cat__drive_4wd    -0.099703\n",
      "3  cat__cylinders_5 cylinders    -0.060330\n",
      "1      cat__manufacturer_ford    -0.026256\n",
      "MSE (Train): 0.6523921191893657\n",
      "MSE (Test): 0.6194660996684908\n"
     ]
    }
   ],
   "source": [
    "# midsize car\n",
    "# split x and y\n",
    "# fuel and transmission replace by new fuel and new transmission\n",
    "# use the log transformation on price\n",
    "# converting to Ordinal title status and conditions\n",
    "\n",
    "\n",
    "X_trainMid, X_testMid, y_trainMid, y_testMid = train_test_split(\n",
    "    df_mid.drop(['price', 'paint_color', 'size', 'transmission', 'fuel'], axis=1),\n",
    "    np.log1p(df_mid['price']), \n",
    "    random_state=42,\n",
    "    test_size=0.3\n",
    ")\n",
    "\n",
    "# Create a ColumnTransformer with StandardScaler() for numerical features\n",
    "# Transform Ordinal and Categorical features\n",
    "\n",
    "vehicle_oc_transformer = ColumnTransformer(\n",
    "    transformers=[\n",
    "        ('cat', OneHotEncoder(drop='if_binary', sparse=False, handle_unknown='ignore'), ['manufacturer', 'cylinders', 'new_fuel', 'new_transmission', 'drive', 'type', 'state']),  # 'paint_color' removed\n",
    "        ('ord', OrdinalEncoder(categories=[['parts only', 'missing', 'salvage', 'rebuilt', 'lien', 'clean']]), ['title_status']),\n",
    "        ('ord2', OrdinalEncoder(categories=[['salvage', 'fair', 'good', 'excellent', 'like new', 'new']]), ['condition']),\n",
    "        ('poly', PolynomialFeatures(include_bias=False, interaction_only=True), ['odometer', 'year'])\n",
    "    ],\n",
    "    remainder='passthrough'\n",
    ")\n",
    "\n",
    "# Create a pipeline with the transformer and a LinearRegression model\n",
    "pipe = Pipeline([\n",
    "    ('preprocessor', vehicle_oc_transformer),\n",
    "    ('regressor', LinearRegression())\n",
    "])\n",
    "\n",
    "# Fit the pipeline on the training data\n",
    "pipe.fit(X_trainMid, y_trainMid)\n",
    "\n",
    "# Evaluate the model on the training data\n",
    "y_train_predMid = pipe.predict(X_trainMid)\n",
    "mse_train = mean_squared_error(y_trainMid, y_train_predMid)\n",
    "\n",
    "# Evaluate the model on the test data\n",
    "y_test_predMid = pipe.predict(X_testMid)\n",
    "mse_test = mean_squared_error(y_testMid, y_test_predMid)\n",
    "\n",
    "# Get feature names after preprocessing\n",
    "feature_names = vehicle_oc_transformer.get_feature_names_out()\n",
    "\n",
    "# Get the coefficients from the LinearRegression model\n",
    "coefficients = pipe.named_steps['regressor'].coef_\n",
    "\n",
    "# Create a DataFrame with feature names and coefficients\n",
    "coef_df = pd.DataFrame({'Feature': feature_names, 'Coefficient': coefficients})\n",
    "\n",
    "coef_df = coef_df.reindex(coef_df['Coefficient'].abs().sort_values(ascending=False).index)\n",
    "\n",
    "pd.set_option('display.max_rows', None)\n",
    "pd.set_option('display.max_columns', None)\n",
    "\n",
    "# Sequential Feature Selector\n",
    "sfs = SequentialFeatureSelector(pipe.named_steps['regressor'], n_features_to_select=10, direction='forward')\n",
    "sfs.fit(X_train_transformed, y_train)\n",
    "\n",
    "selected_feature_indices = sfs.get_support(indices=True)\n",
    "selected_feature_names = [feature_names[i] for i in selected_feature_indices]\n",
    "selected_coefficients = [coefficients[i] for i in selected_feature_indices]\n",
    "\n",
    "selected_coef_df = pd.DataFrame({'Feature': selected_feature_names, 'Coefficient': selected_coefficients})\n",
    "\n",
    "selected_coef_df = selected_coef_df.reindex(selected_coef_df['Coefficient'].abs().sort_values(ascending=False).index)\n",
    "\n",
    "print(\"Selected Features:\")\n",
    "print(selected_coef_df)\n",
    "print(f'MSE (Train): {mse_train}')\n",
    "print(f'MSE (Test): {mse_test}')"
   ]
  },
  {
   "cell_type": "markdown",
   "metadata": {},
   "source": [
    "Top 10 features for midsize cars linear regression model:\n",
    "-manufacurer acura has a positive impact on price\n",
    "-cylinder 5 and 3 have negative impact on price\n",
    "-condition has positive impact on price\n",
    "wagon and sedan have a negative impact on price\n",
    "-manufacturer ford negative impact on price\n",
    "-drive fwd and 4wd has positive impact on price\n",
    "-state:fl has negative impact on price"
   ]
  },
  {
   "cell_type": "markdown",
   "metadata": {},
   "source": [
    "GridSeachCV"
   ]
  },
  {
   "cell_type": "code",
   "execution_count": 52,
   "metadata": {},
   "outputs": [
    {
     "name": "stdout",
     "output_type": "stream",
     "text": [
      "Fitting 5 folds for each of 5 candidates, totalling 25 fits\n"
     ]
    },
    {
     "name": "stderr",
     "output_type": "stream",
     "text": [
      "C:\\Users\\willi\\anaconda3\\lib\\site-packages\\sklearn\\preprocessing\\_encoders.py:202: UserWarning: Found unknown categories in columns [0] during transform. These unknown categories will be encoded as all zeros\n",
      "  warnings.warn(\n",
      "C:\\Users\\willi\\anaconda3\\lib\\site-packages\\sklearn\\preprocessing\\_encoders.py:202: UserWarning: Found unknown categories in columns [0] during transform. These unknown categories will be encoded as all zeros\n",
      "  warnings.warn(\n",
      "C:\\Users\\willi\\anaconda3\\lib\\site-packages\\sklearn\\preprocessing\\_encoders.py:202: UserWarning: Found unknown categories in columns [0] during transform. These unknown categories will be encoded as all zeros\n",
      "  warnings.warn(\n",
      "C:\\Users\\willi\\anaconda3\\lib\\site-packages\\sklearn\\preprocessing\\_encoders.py:202: UserWarning: Found unknown categories in columns [0] during transform. These unknown categories will be encoded as all zeros\n",
      "  warnings.warn(\n",
      "C:\\Users\\willi\\anaconda3\\lib\\site-packages\\sklearn\\preprocessing\\_encoders.py:202: UserWarning: Found unknown categories in columns [0] during transform. These unknown categories will be encoded as all zeros\n",
      "  warnings.warn(\n",
      "C:\\Users\\willi\\anaconda3\\lib\\site-packages\\sklearn\\preprocessing\\_encoders.py:202: UserWarning: Found unknown categories in columns [0] during transform. These unknown categories will be encoded as all zeros\n",
      "  warnings.warn(\n",
      "C:\\Users\\willi\\anaconda3\\lib\\site-packages\\sklearn\\preprocessing\\_encoders.py:202: UserWarning: Found unknown categories in columns [0] during transform. These unknown categories will be encoded as all zeros\n",
      "  warnings.warn(\n",
      "C:\\Users\\willi\\anaconda3\\lib\\site-packages\\sklearn\\preprocessing\\_encoders.py:202: UserWarning: Found unknown categories in columns [0] during transform. These unknown categories will be encoded as all zeros\n",
      "  warnings.warn(\n",
      "C:\\Users\\willi\\anaconda3\\lib\\site-packages\\sklearn\\preprocessing\\_encoders.py:202: UserWarning: Found unknown categories in columns [0] during transform. These unknown categories will be encoded as all zeros\n",
      "  warnings.warn(\n",
      "C:\\Users\\willi\\anaconda3\\lib\\site-packages\\sklearn\\preprocessing\\_encoders.py:202: UserWarning: Found unknown categories in columns [0] during transform. These unknown categories will be encoded as all zeros\n",
      "  warnings.warn(\n"
     ]
    },
    {
     "name": "stdout",
     "output_type": "stream",
     "text": [
      "Best Alpha: 1\n",
      "MSE (Train): 0.6580020505899941\n",
      "MSE (Test): 0.6270333581157581\n"
     ]
    }
   ],
   "source": [
    "# model by size\n",
    "# GridSearchCV\n",
    "# split x and y\n",
    "# fuel and transmission replace by new fuel and new transmission\n",
    "# Model for midsize Cars\n",
    "# use the log transformation on price\n",
    "# converting to Ordinal title status and conditions\n",
    "\n",
    "warnings.filterwarnings(\"ignore\", category=FutureWarning)\n",
    "\n",
    "X_train, X_test, y_train, y_test = train_test_split(\n",
    "    df_mid.drop(['price', 'paint_color', 'size', 'transmission', 'fuel'], axis=1),\n",
    "    np.log1p(df_mid['price']), \n",
    "    random_state=42,\n",
    "    test_size=0.3\n",
    ")\n",
    "\n",
    "vehicle_oc_transformer = ColumnTransformer(\n",
    "    transformers=[\n",
    "        ('num', StandardScaler(), ['odometer', 'year']), \n",
    "        ('cat', OneHotEncoder(drop='if_binary', sparse=False, handle_unknown='ignore'), ['manufacturer', 'cylinders', 'new_fuel', 'new_transmission', 'drive', 'type', 'state']),\n",
    "        ('ord', OrdinalEncoder(categories=[['parts only', 'missing', 'salvage', 'rebuilt', 'lien', 'clean']]), ['title_status']),\n",
    "        ('ord2', OrdinalEncoder(categories=[['salvage', 'fair', 'good', 'excellent', 'like new', 'new']]), ['condition']),\n",
    "    ],\n",
    "    remainder='passthrough'\n",
    ")\n",
    "\n",
    "# Define the alpha values to search for\n",
    "alphas = [0.1, 1, 10, 100, 1000]\n",
    "\n",
    "# Create a parameter grid for GridSearchCV\n",
    "param_grid = {\n",
    "    'ridge__alpha': alphas\n",
    "}\n",
    "\n",
    "# Create a Ridge regression pipeline\n",
    "ridge_pipe = Pipeline([\n",
    "    ('preprocessor', vehicle_oc_transformer),\n",
    "    ('ridge', Ridge())\n",
    "])\n",
    "\n",
    "# Create GridSearchCV object\n",
    "grid_2 = GridSearchCV(ridge_pipe, param_grid, cv=5, scoring='neg_mean_squared_error', verbose=1)\n",
    "\n",
    "# Fit the GridSearchCV on the training data\n",
    "grid_2.fit(X_train, y_train)\n",
    "\n",
    "# Get the best estimator and display the results\n",
    "best_estimator = grid_2.best_estimator_\n",
    "y_train_pred = best_estimator.predict(X_train)\n",
    "y_test_pred = best_estimator.predict(X_test)\n",
    "\n",
    "mse_train = mean_squared_error(y_train, y_train_pred)\n",
    "mse_test = mean_squared_error(y_test, y_test_pred)\n",
    "\n",
    "print(\"Best Alpha:\", grid_2.best_params_['ridge__alpha'])\n",
    "print(f'MSE (Train): {mse_train}')\n",
    "print(f'MSE (Test): {mse_test}')"
   ]
  },
  {
   "cell_type": "markdown",
   "metadata": {},
   "source": [
    "RIDGE"
   ]
  },
  {
   "cell_type": "code",
   "execution_count": 55,
   "metadata": {},
   "outputs": [
    {
     "name": "stdout",
     "output_type": "stream",
     "text": [
      "                        Feature  Coefficient\n",
      "43  cat__new_transmission_other    -4.728695\n",
      "46               cat__drive_rwd     4.615471\n",
      "44               cat__drive_4wd     4.213513\n",
      "45               cat__drive_fwd     4.111715\n",
      "41         cat__cylinders_other     2.700645\n",
      "40   cat__cylinders_8 cylinders     2.183563\n",
      "37   cat__cylinders_4 cylinders     1.898789\n",
      "39   cat__cylinders_6 cylinders     1.886435\n",
      "38   cat__cylinders_5 cylinders     1.840821\n",
      "48                cat__type_bus     1.538645\n",
      "MSE (Train): 0.6598891013785938\n",
      "MSE (Test): 0.628111665062591\n"
     ]
    }
   ],
   "source": [
    "# split x and y\n",
    "# fuel and transmission replace by new fuel and new transmission\n",
    "# use the log transformation on price\n",
    "# converting to Ordinal title status and conditions \n",
    "# mid cars Ridge - alpha =1 from gridsearch\n",
    "\n",
    "warnings.filterwarnings(\"ignore\", category=FutureWarning)\n",
    "X_trainMid, X_testMid, y_trainMid, y_testMid = train_test_split(\n",
    "    df_mid.drop(['price', 'paint_color', 'size', 'transmission', 'fuel'], axis=1),\n",
    "    np.log1p(df_mid['price']), \n",
    "    random_state=42,\n",
    "    test_size=0.3\n",
    ")\n",
    "\n",
    "vehicle_oc_transformer = ColumnTransformer(\n",
    "    transformers=[\n",
    "        ('num', StandardScaler(), ['odometer', 'year']),  \n",
    "        ('cat', OneHotEncoder(drop='if_binary', sparse=False, handle_unknown='ignore'), ['manufacturer', 'cylinders', 'new_fuel', 'new_transmission', 'drive', 'type', 'state']),\n",
    "        ('ord', OrdinalEncoder(categories=[['parts only', 'missing', 'salvage', 'rebuilt', 'lien', 'clean']]), ['title_status']),\n",
    "        ('ord2', OrdinalEncoder(categories=[['salvage', 'fair', 'good', 'excellent', 'like new', 'new']]), ['condition']),\n",
    "        \n",
    "    ],\n",
    "    remainder='passthrough'\n",
    ")\n",
    "\n",
    "# Create a Ridge regression pipeline without an intercept\n",
    "ridge_pipe = Pipeline([\n",
    "    ('preprocessor', vehicle_oc_transformer),\n",
    "    ('ridge', Ridge(alpha=1, fit_intercept=False))\n",
    "])\n",
    "# Fit the pipeline on the training data\n",
    "ridge_pipe.fit(X_trainMid, y_trainMid)\n",
    "\n",
    "# Predict on training and test data\n",
    "y_train_predMid = ridge_pipe.predict(X_trainMid)\n",
    "y_test_predMid = ridge_pipe.predict(X_testMid)\n",
    "\n",
    "mse_train = mean_squared_error(y_trainMid, y_train_predMid)\n",
    "mse_test = mean_squared_error(y_testMid, y_test_predMid)\n",
    "\n",
    "# Get feature names after preprocessing from the ColumnTransformer\n",
    "feature_names = vehicle_oc_transformer.get_feature_names_out()\n",
    "\n",
    "# Get the coefficients from the Ridge regression model\n",
    "coefficients = ridge_pipe.named_steps['ridge'].coef_\n",
    "\n",
    "# The number of feature names and coefficients should match now\n",
    "feature_names_length = len(feature_names)\n",
    "coefficients_length = len(coefficients)\n",
    "\n",
    "# Create a DataFrame to store feature names and coefficients\n",
    "coef_df = pd.DataFrame({'Feature': feature_names, 'Coefficient': coefficients})\n",
    "\n",
    "# Sort the coefficients from biggest to smallest\n",
    "coef_df = coef_df.reindex(coef_df['Coefficient'].abs().sort_values(ascending=False).index)\n",
    "\n",
    "# Select the top 10 features\n",
    "top_10_features = coef_df.head(10)\n",
    "\n",
    "# Display the selected features and their coefficients\n",
    "print(top_10_features)\n",
    "print(f'MSE (Train): {mse_train}')\n",
    "print(f'MSE (Test): {mse_test}')"
   ]
  },
  {
   "cell_type": "markdown",
   "metadata": {},
   "source": [
    "Top 10 features for mid cars Rigde model:\n",
    "-cylinder 8, 6, 5 and 4 and other have positive impact on price\n",
    "-Fuel non diesel has positive impact on price\n",
    "-transmission no manual or no automatic has a negative impact on price\n",
    "-drive rwd, fwd and 4wd has positive impact on price\n",
    "-type bus has a positive impact on price"
   ]
  },
  {
   "cell_type": "markdown",
   "metadata": {},
   "source": [
    "Based on MSE results for midsize cars the best model is the linear regression "
   ]
  },
  {
   "cell_type": "markdown",
   "metadata": {},
   "source": [
    "FULL SIZE CARS"
   ]
  },
  {
   "cell_type": "markdown",
   "metadata": {},
   "source": [
    "Linear Regression"
   ]
  },
  {
   "cell_type": "code",
   "execution_count": 39,
   "metadata": {},
   "outputs": [
    {
     "name": "stdout",
     "output_type": "stream",
     "text": [
      "Selected Features:\n",
      "                      Feature  Coefficient\n",
      "3  cat__cylinders_8 cylinders     0.282925\n",
      "6             cat__type_wagon    -0.271739\n",
      "5               cat__type_SUV    -0.214822\n",
      "7               cat__state_ar     0.134401\n",
      "0     cat__manufacturer_acura     0.108790\n",
      "1     cat__manufacturer_honda     0.094247\n",
      "8               cat__state_ia     0.073356\n",
      "4              cat__drive_rwd     0.049759\n",
      "9                  poly__year     0.030984\n",
      "2  cat__cylinders_5 cylinders    -0.012785\n",
      "MSE (Train): 0.677850789778473\n",
      "MSE (Test): 0.5450559092747469\n"
     ]
    }
   ],
   "source": [
    "# split x and y\n",
    "# fuel and transmission replace by new fuel and new transmission\n",
    "# use the log transformation on price\n",
    "# converting to Ordinal title status and conditions\n",
    "# Size Full Sequential Feature selection top 10 features Linear Regression\n",
    "\n",
    "X_trainF, X_testF, y_trainF, y_testF = train_test_split(\n",
    "    df_full.drop(['price', 'paint_color', 'size', 'transmission', 'fuel'], axis=1),\n",
    "    np.log1p(df_full['price']), \n",
    "    random_state=42,\n",
    "    test_size=0.3\n",
    ")\n",
    "\n",
    "\n",
    "vehicle_oc_transformer = ColumnTransformer(\n",
    "    transformers=[\n",
    "        ('cat', OneHotEncoder(drop='if_binary', sparse=False, handle_unknown='ignore'), ['manufacturer', 'cylinders', 'new_fuel', 'new_transmission', 'drive', 'type', 'state']),  # 'paint_color' removed\n",
    "        ('ord', OrdinalEncoder(categories=[['parts only', 'missing', 'salvage', 'rebuilt', 'lien', 'clean']]), ['title_status']),\n",
    "        ('ord2', OrdinalEncoder(categories=[['salvage', 'fair', 'good', 'excellent', 'like new', 'new']]), ['condition']),\n",
    "        ('poly', PolynomialFeatures(include_bias=False, interaction_only=True), ['odometer', 'year'])\n",
    "    ],\n",
    "    remainder='passthrough'\n",
    ")\n",
    "# Create a pipeline with the transformer and a LinearRegression model\n",
    "pipe = Pipeline([\n",
    "    ('preprocessor', vehicle_oc_transformer),\n",
    "    ('regressor', LinearRegression())\n",
    "])\n",
    "\n",
    "# Fit the pipeline on the training data\n",
    "pipe.fit(X_trainF, y_trainF)\n",
    "\n",
    "# Evaluate the model on the training data\n",
    "y_train_predF = pipe.predict(X_trainF)\n",
    "mse_train = mean_squared_error(y_trainF, y_train_predF)\n",
    "\n",
    "# Evaluate the model on the test data\n",
    "y_test_predF = pipe.predict(X_testF)\n",
    "mse_test = mean_squared_error(y_testF, y_test_predF)\n",
    "\n",
    "# Get feature names after preprocessing\n",
    "feature_names = vehicle_oc_transformer.get_feature_names_out()\n",
    "\n",
    "# Get the coefficients from the LinearRegression model\n",
    "coefficients = pipe.named_steps['regressor'].coef_\n",
    "\n",
    "# Create a DataFrame with feature names and coefficients\n",
    "coef_df = pd.DataFrame({'Feature': feature_names, 'Coefficient': coefficients})\n",
    "\n",
    "coef_df = coef_df.reindex(coef_df['Coefficient'].abs().sort_values(ascending=False).index)\n",
    "\n",
    "pd.set_option('display.max_rows', None)\n",
    "pd.set_option('display.max_columns', None)\n",
    "\n",
    "# Sequential Feature Selector\n",
    "sfs = SequentialFeatureSelector(pipe.named_steps['regressor'], n_features_to_select=10, direction='forward')\n",
    "sfs.fit(X_train_transformed, y_train)\n",
    "\n",
    "selected_feature_indices = sfs.get_support(indices=True)\n",
    "selected_feature_names = [feature_names[i] for i in selected_feature_indices]\n",
    "selected_coefficients = [coefficients[i] for i in selected_feature_indices]\n",
    "\n",
    "selected_coef_df = pd.DataFrame({'Feature': selected_feature_names, 'Coefficient': selected_coefficients})\n",
    "\n",
    "selected_coef_df = selected_coef_df.reindex(selected_coef_df['Coefficient'].abs().sort_values(ascending=False).index)\n",
    "\n",
    "print(\"Selected Features:\")\n",
    "print(selected_coef_df)\n",
    "print(f'MSE (Train): {mse_train}')\n",
    "print(f'MSE (Test): {mse_test}')"
   ]
  },
  {
   "cell_type": "markdown",
   "metadata": {},
   "source": [
    "Top 10 features for full cars Linear regression model:\n",
    "-cylinder 8 has positive impact on price\n",
    "-cylinder 5 has negative impact on price\n",
    "-type wagon and suv have negative impact on price\n",
    "-model acura and honda have a positive impact on price\n",
    "-drive rwd has positive impact on price\n",
    "-year has positive impact on price\n",
    "-state ar and ia have positive impact on price\n"
   ]
  },
  {
   "cell_type": "markdown",
   "metadata": {},
   "source": [
    "GridSearchCV"
   ]
  },
  {
   "cell_type": "code",
   "execution_count": 57,
   "metadata": {},
   "outputs": [
    {
     "name": "stdout",
     "output_type": "stream",
     "text": [
      "Fitting 5 folds for each of 5 candidates, totalling 25 fits\n",
      "Best Alpha: 10\n",
      "MSE (Train): 0.7175317745392858\n",
      "MSE (Test): 0.57444894259517\n"
     ]
    }
   ],
   "source": [
    "\n",
    "# split x and y\n",
    "# fuel and transmission replace by new fuel and new transmission\n",
    "# Model for full Cars\n",
    "# use the log transformation on price\n",
    "# converting to Ordinal title status and conditions\n",
    "\n",
    "warnings.filterwarnings(\"ignore\", category=FutureWarning)\n",
    "\n",
    "X_train, X_test, y_train, y_test = train_test_split(\n",
    "    df_full.drop(['price', 'paint_color', 'size', 'transmission', 'fuel'], axis=1),\n",
    "    np.log1p(df_full['price']), \n",
    "    random_state=42,\n",
    "    test_size=0.3\n",
    ")\n",
    "\n",
    "vehicle_oc_transformer = ColumnTransformer(\n",
    "    transformers=[\n",
    "        ('num', StandardScaler(), ['odometer', 'year']), \n",
    "        ('cat', OneHotEncoder(drop='if_binary', sparse=False, handle_unknown='ignore'), ['manufacturer', 'cylinders', 'new_fuel', 'new_transmission', 'drive', 'type', 'state']),\n",
    "        ('ord', OrdinalEncoder(categories=[['parts only', 'missing', 'salvage', 'rebuilt', 'lien', 'clean']]), ['title_status']),\n",
    "        ('ord2', OrdinalEncoder(categories=[['salvage', 'fair', 'good', 'excellent', 'like new', 'new']]), ['condition']),\n",
    "    ],\n",
    "    remainder='passthrough'\n",
    ")\n",
    "\n",
    "# Define the alpha values to search for\n",
    "alphas = [0.1, 1, 10, 100, 1000]\n",
    "\n",
    "# Create a parameter grid for GridSearchCV\n",
    "param_grid = {\n",
    "    'ridge__alpha': alphas\n",
    "}\n",
    "\n",
    "# Create a Ridge regression pipeline\n",
    "ridge_pipe = Pipeline([\n",
    "    ('preprocessor', vehicle_oc_transformer),\n",
    "    ('ridge', Ridge())\n",
    "])\n",
    "\n",
    "# Create GridSearchCV object\n",
    "grid_2 = GridSearchCV(ridge_pipe, param_grid, cv=5, scoring='neg_mean_squared_error', verbose=1)\n",
    "\n",
    "# Fit the GridSearchCV on the training data\n",
    "grid_2.fit(X_train, y_train)\n",
    "\n",
    "# Get the best estimator and display the results\n",
    "best_estimator = grid_2.best_estimator_\n",
    "y_train_pred = best_estimator.predict(X_train)\n",
    "y_test_pred = best_estimator.predict(X_test)\n",
    "\n",
    "mse_train = mean_squared_error(y_train, y_train_pred)\n",
    "mse_test = mean_squared_error(y_test, y_test_pred)\n",
    "\n",
    "print(\"Best Alpha:\", grid_2.best_params_['ridge__alpha'])\n",
    "print(f'MSE (Train): {mse_train}')\n",
    "print(f'MSE (Test): {mse_test}')"
   ]
  },
  {
   "cell_type": "markdown",
   "metadata": {},
   "source": [
    "RIDGE"
   ]
  },
  {
   "cell_type": "code",
   "execution_count": 42,
   "metadata": {},
   "outputs": [
    {
     "name": "stdout",
     "output_type": "stream",
     "text": [
      "                       Feature  Coefficient\n",
      "42              cat__drive_4wd     3.519890\n",
      "44              cat__drive_rwd     3.462410\n",
      "43              cat__drive_fwd     3.189003\n",
      "38  cat__cylinders_8 cylinders     1.955956\n",
      "37  cat__cylinders_6 cylinders     1.946669\n",
      "35  cat__cylinders_4 cylinders     1.915953\n",
      "36  cat__cylinders_5 cylinders     1.404722\n",
      "47       cat__type_convertible     1.279878\n",
      "39        cat__cylinders_other     1.211049\n",
      "48             cat__type_coupe     1.136447\n",
      "MSE (Train): 0.7511728982964582\n",
      "MSE (Test): 0.6086272720877846\n"
     ]
    }
   ],
   "source": [
    "# split x and y\n",
    "# fuel and transmission replace by new fuel and new transmission\n",
    "# use the log transformation on price\n",
    "# converting to Ordinal title status and conditions \n",
    "# full cars Ridge - alpha =10 from Gridsearch \n",
    "\n",
    "warnings.filterwarnings(\"ignore\", category=FutureWarning)\n",
    "X_trainF, X_testF, y_trainF, y_testF = train_test_split(\n",
    "    df_full.drop(['price', 'paint_color', 'size', 'transmission', 'fuel'], axis=1),\n",
    "    np.log1p(df_full['price']), \n",
    "    random_state=42,\n",
    "    test_size=0.3\n",
    ")\n",
    "\n",
    "vehicle_oc_transformer = ColumnTransformer(\n",
    "    transformers=[\n",
    "        ('num', StandardScaler(), ['odometer', 'year']),  \n",
    "        ('cat', OneHotEncoder(drop='if_binary', sparse=False, handle_unknown='ignore'), ['manufacturer', 'cylinders', 'new_fuel', 'new_transmission', 'drive', 'type', 'state']),\n",
    "        ('ord', OrdinalEncoder(categories=[['parts only', 'missing', 'salvage', 'rebuilt', 'lien', 'clean']]), ['title_status']),\n",
    "        ('ord2', OrdinalEncoder(categories=[['salvage', 'fair', 'good', 'excellent', 'like new', 'new']]), ['condition']),\n",
    "        \n",
    "    ],\n",
    "    remainder='passthrough'\n",
    ")\n",
    "\n",
    "# Create a Ridge regression pipeline without an intercept\n",
    "ridge_pipe = Pipeline([\n",
    "    ('preprocessor', vehicle_oc_transformer),\n",
    "    ('ridge', Ridge(alpha=10, fit_intercept=False))\n",
    "])\n",
    "# Fit the pipeline on the training data\n",
    "ridge_pipe.fit(X_trainF, y_trainF)\n",
    "\n",
    "# Predict on training and test data\n",
    "y_train_predF = ridge_pipe.predict(X_trainF)\n",
    "y_test_predF = ridge_pipe.predict(X_testF)\n",
    "\n",
    "mse_train = mean_squared_error(y_trainF, y_train_predF)\n",
    "mse_test = mean_squared_error(y_testF, y_test_predF)\n",
    "\n",
    "# Get feature names after preprocessing from the ColumnTransformer\n",
    "feature_names = vehicle_oc_transformer.get_feature_names_out()\n",
    "\n",
    "# Get the coefficients from the Ridge regression model\n",
    "coefficients = ridge_pipe.named_steps['ridge'].coef_\n",
    "\n",
    "# The number of feature names and coefficients should match now\n",
    "feature_names_length = len(feature_names)\n",
    "coefficients_length = len(coefficients)\n",
    "\n",
    "# Create a DataFrame to store feature names and coefficients\n",
    "coef_df = pd.DataFrame({'Feature': feature_names, 'Coefficient': coefficients})\n",
    "\n",
    "# Sort the coefficients from biggest to smallest\n",
    "coef_df = coef_df.reindex(coef_df['Coefficient'].abs().sort_values(ascending=False).index)\n",
    "\n",
    "# Select the top 10 features\n",
    "top_10_features = coef_df.head(10)\n",
    "\n",
    "# Display the selected features and their coefficients\n",
    "print(top_10_features)\n",
    "print(f'MSE (Train): {mse_train}')\n",
    "print(f'MSE (Test): {mse_test}')"
   ]
  },
  {
   "cell_type": "markdown",
   "metadata": {},
   "source": [
    "Top 10 features for fullsize cars ridge model:\n",
    "-drive 4wd, rwd and fwd have a positive impact on price\n",
    "-cylinder 8, 6, 4, 5 and other have a positive impact on price\n",
    "-type convertible and coupe have a positive impact on price"
   ]
  },
  {
   "cell_type": "markdown",
   "metadata": {},
   "source": [
    "LASSO"
   ]
  },
  {
   "cell_type": "code",
   "execution_count": 41,
   "metadata": {},
   "outputs": [
    {
     "name": "stdout",
     "output_type": "stream",
     "text": [
      "Selected Features:\n",
      "                       Feature  Coefficient\n",
      "0                num__odometer         -0.0\n",
      "1                    num__year          0.0\n",
      "2      cat__manufacturer_acura         -0.0\n",
      "3       cat__manufacturer_audi          0.0\n",
      "4        cat__manufacturer_bmw         -0.0\n",
      "5      cat__manufacturer_buick         -0.0\n",
      "6   cat__manufacturer_cadillac          0.0\n",
      "7  cat__manufacturer_chevrolet          0.0\n",
      "8   cat__manufacturer_chrysler         -0.0\n",
      "9      cat__manufacturer_dodge         -0.0\n",
      "MSE (Train): 1.0418751204013017\n",
      "MSE (Test): 0.8026865878927412\n"
     ]
    }
   ],
   "source": [
    "# split x and y\n",
    "# fuel and transmission replace by new fuel and new transmission\n",
    "# Model for full Cars\n",
    "# use the log transformation on price\n",
    "# converting to Ordinal title status and conditions \n",
    "# Full cars lasso model alpha = 10 from Gridsearch\n",
    "\n",
    "warnings.filterwarnings(\"ignore\", category=FutureWarning)\n",
    "X_trainF, X_testF, y_trainF, y_testF = train_test_split(\n",
    "    df_full.drop(['price', 'paint_color', 'size', 'transmission', 'fuel'], axis=1),\n",
    "    np.log1p(df_full['price']), \n",
    "    random_state=42,\n",
    "    test_size=0.3\n",
    ")\n",
    "\n",
    "vehicle_oc_transformer = ColumnTransformer(\n",
    "    transformers=[\n",
    "        ('num', StandardScaler(), ['odometer', 'year']),\n",
    "        ('cat', OneHotEncoder(drop='if_binary', sparse=False, handle_unknown='ignore'), ['manufacturer', 'cylinders', 'new_fuel', 'new_transmission', 'drive', 'type', 'state']),\n",
    "        ('ord', OrdinalEncoder(categories=[['parts only', 'missing', 'salvage', 'rebuilt', 'lien', 'clean']]), ['title_status']),\n",
    "        ('ord2', OrdinalEncoder(categories=[['salvage', 'fair', 'good', 'excellent', 'like new', 'new']]), ['condition']),\n",
    "    ],\n",
    "    remainder='passthrough'\n",
    ")\n",
    "\n",
    "# Create a pipeline with the transformer and a Lasso model with alpha=0.1\n",
    "pipe = Pipeline([\n",
    "    ('preprocessor', vehicle_oc_transformer),\n",
    "    ('regressor', Lasso(alpha=10))  # Lasso regression with alpha=0.1\n",
    "])\n",
    "\n",
    "# Fit the pipeline on the training data\n",
    "pipe.fit(X_trainF, y_trainF)\n",
    "\n",
    "# Evaluate the model on the training data\n",
    "y_train_predF = pipe.predict(X_trainF)\n",
    "mse_train = mean_squared_error(y_trainF, y_train_predF)\n",
    "\n",
    "# Evaluate the model on the test data\n",
    "y_test_predF = pipe.predict(X_testF)\n",
    "mse_test = mean_squared_error(y_testF, y_test_predF)\n",
    "\n",
    "# Get feature names after preprocessing\n",
    "feature_names = vehicle_oc_transformer.get_feature_names_out()\n",
    "\n",
    "# Get the coefficients from the Lasso model\n",
    "coefficients = pipe.named_steps['regressor'].coef_\n",
    "\n",
    "# Create a DataFrame with feature names and coefficients\n",
    "coef_df = pd.DataFrame({'Feature': feature_names, 'Coefficient': coefficients})\n",
    "\n",
    "coef_df = coef_df.reindex(coef_df['Coefficient'].abs().sort_values(ascending=False).index)\n",
    "\n",
    "pd.set_option('display.max_rows', None)\n",
    "pd.set_option('display.max_columns', None)\n",
    "\n",
    "# Sequential Feature Selector\n",
    "sfs = SequentialFeatureSelector(pipe.named_steps['regressor'], n_features_to_select=10, direction='forward')\n",
    "sfs.fit(X_train_transformed, y_train)\n",
    "\n",
    "selected_feature_indices = sfs.get_support(indices=True)\n",
    "selected_feature_names = [feature_names[i] for i in selected_feature_indices]\n",
    "selected_coefficients = [coefficients[i] for i in selected_feature_indices]\n",
    "\n",
    "selected_coef_df = pd.DataFrame({'Feature': selected_feature_names, 'Coefficient': selected_coefficients})\n",
    "\n",
    "selected_coef_df = selected_coef_df.reindex(selected_coef_df['Coefficient'].abs().sort_values(ascending=False).index)\n",
    "\n",
    "print(\"Selected Features:\")\n",
    "print(selected_coef_df)\n",
    "print(f'MSE (Train): {mse_train}')\n",
    "print(f'MSE (Test): {mse_test}')"
   ]
  },
  {
   "cell_type": "markdown",
   "metadata": {},
   "source": [
    "Lasso does not provide better results as MSE is considerable higher than other models"
   ]
  },
  {
   "cell_type": "markdown",
   "metadata": {},
   "source": [
    "Based on MSE results for full cars the best model is the linear regression"
   ]
  },
  {
   "cell_type": "markdown",
   "metadata": {},
   "source": [
    "#Evaluation\n",
    "With some modeling accomplished, we aim to reflect on what we identify as a high quality model and what we are able to learn from this. We should review our business objective and explore how well we can provide meaningful insight on drivers of used car prices. Your goal now is to distill your findings and determine whether the earlier phases need revisitation and adjustment or if you have information of value to bring back to your client."
   ]
  },
  {
   "cell_type": "markdown",
   "metadata": {},
   "source": [
    "The first results without transformation price were having MSE results over the thoudsands, the first adjustment was to assess prices and perform a log transformation.The second observation was the zeros on price were impacting the results. The zero values were removed. \n",
    "\n",
    "Analysis simplication the reduction of the some features such as: \n",
    "models - 'ferrari', 'tesla', 'aston-martin', 'ram', 'rover', 'alfa-romeo', 'porsche' represents the model with higher prices\n",
    "states  ak, de, hi, tn and wy with higher prices\n",
    "state with lower price dc\n",
    "Type truck with higher price\n",
    "\n",
    "The selected models were based on lowest MSE results.\n",
    "\n",
    "Top 10 features on compact cars linear regression model :\n",
    "-type wagon has a negative impact on price\n",
    "-manufacturer acura has a negative impact on price\n",
    "-manufacturer ford has a positive impact on price\n",
    "-cylinder 4 or 6 cylinder vehicle positive impact  on prices\n",
    "-drive rwd has positive impact on price\n",
    "-state ia and ar have a positive impact on price\n",
    "\n",
    "Top 10 features for midsize cars linear regression model:\n",
    "-manufacurer acura has a positive impact on price\n",
    "-cylinder 5 and 3 have negative impact on price\n",
    "-condition has positive impact on price\n",
    "-wagon and sedan have a negative impact on price\n",
    "-manufacturer ford negative impact on price\n",
    "-drive fwd and 4wd has positive impact on price\n",
    "-state:fl has negative impact on price\n",
    "\n",
    "Top 10 features for full cars Linear regression model:\n",
    "-cylinder 8 has positive impact on price\n",
    "-cylinder 5 has negative impact on price\n",
    "-type wagon and suv have negative impact on price\n",
    "-manufacturer acura and honda have a positive impact on price\n",
    "-drive rwd has positive impact on price\n",
    "-year has positive impact on price\n",
    "-state ar and ia have positive impact on price"
   ]
  },
  {
   "cell_type": "markdown",
   "metadata": {},
   "source": [
    "### Deployment\n",
    "\n",
    "Now that we've settled on our models and findings, it is time to deliver the information to the client.  You should organize your work as a basic report that details your primary findings.  Keep in mind that your audience is a group of used car dealers interested in fine tuning their inventory."
   ]
  },
  {
   "cell_type": "markdown",
   "metadata": {},
   "source": [
    "The study's findings can be summarized as follows:\n",
    "\n",
    "Cars manufactured by renowned brands such as Ferrari, Tesla, Aston Martin, Ram, Rover, Alfa Romeo, and Porsche tend to command higher prices.\n",
    "States like Alaska (AK), Delaware (DE), Hawaii (HI), Tennessee (TN), and Wyoming (WY) are associated with higher car prices, while Washington, D.C. (DC), tends to have lower prices.\n",
    "Truck-type vehicles generally have higher prices compared to other types.\n",
    "Specifically for compact cars:\n",
    "\n",
    "Compact cars with fewer than 6 cylinders have a positive impact on price.\n",
    "The \"wagon\" type and cars manufactured by Acura have a negative impact on price.\n",
    "Rear-wheel drive (RWD) and cars manufactured by Ford have a positive impact on price.\n",
    "States Iowa (IA) and Arkansas (AR) are associated with higher prices.\n",
    "For midsize and subcompact cars:\n",
    "\n",
    "Cars with fewer than 5 cylinders have a negative impact on price.\n",
    "The \"sedan\" and \"wagon\" types have a negative impact on price.\n",
    "Cars manufactured by Acura have a positive impact on price.\n",
    "Front-wheel drive (FWD) and four-wheel drive (4WD) have a positive impact on price.\n",
    "For full-size cars:\n",
    "\n",
    "Manufacturers Acura and Honda have a positive impact on price.\n",
    "The \"wagon\" and \"SUV\" types have a negative impact on price.\n",
    "Newer cars (recent model years) have a positive impact on price.\n",
    "States Arkansas (AR) and Iowa (IA) are associated with higher prices.\n",
    "Rear-wheel drive (RWD) and cars with lower cylinder counts have a positive impact on price.\n",
    "In summary:\n",
    "\n",
    "Cars manufactured by Ferrari, Tesla, Aston Martin, Ram, Rover, Alfa Romeo, and Porsche command higher prices.\n",
    "States Arkansas (AR), Alaska (AK), Delaware (DE), Hawaii (HI), Tennessee (TN), and Wyoming (WY) tend to have higher car prices, while Washington, D.C. (DC), has lower prices.\n",
    "Truck-type vehicles are generally priced higher.\n",
    "\"Wagon\" cars are less preferred as they lower the price.\n",
    "Cars with lower cylinder counts are preferred, as they have a positive impact on price.\n",
    "Newer cars fetch higher prices.\n",
    "Better-condition cars are associated with higher prices.\n",
    "Generally, cars manufactured by Acura are preferred for achieving higher prices.\n",
    "drive prefernce varies per car size. "
   ]
  },
  {
   "cell_type": "markdown",
   "metadata": {},
   "source": [
    "Recommendations for the customer.\n",
    "\n",
    "Product Portfolio:Review and expand the product portfolio to include offerings from prestigious manufacturers like Ferrari, Tesla, Aston Martin, Ram, Rover, Alfa Romeo, and Porsche.\n",
    "\n",
    "Pricing Strategies: Adjust pricing strategies to align with regional variations. Implement dynamic pricing models to optimize profitability in high-demand regions.\n",
    "\n",
    "Inventory Management: Ensure a sufficient inventory of truck-type vehicles, given their consistent demand and higher pricing.\n",
    "\n",
    "Compact Car Focus: Ephasize marketing efforts on compact cars with fewer than six cylinders, as they have a positive impact on pricing. Explore partnerships with manufacturers like Ford.\n",
    "\n",
    "Midsize and Subcompact Cars: Consider offering incentives or promotions for midsize and subcompact cars with features that positively influence pricing, such as those manufactured by Acura.\n",
    "\n",
    "Full-Size Cars Strategy:Highlight newer full-size car models in marketing campaigns and promotions. Leverage the positive influence of manufacturers like Acura and Honda.\n",
    "\n",
    "Regional Expansion: Explore opportunities to expand into regions with higher car prices, such as Alaska, Delaware, Hawaii, Tennessee, and Wyoming.\n",
    "\n",
    "Vehicle Features: Continuously monitor and incorporate customer preferences related to features that impact pricing, such as cylinder counts, drive types, and vehicle condition.\n",
    "\n",
    "Data Analysis:Continue gathering and analyzing market data to adapt to changing trends and consumer preferences.\n"
   ]
  },
  {
   "cell_type": "markdown",
   "metadata": {},
   "source": [
    "#Based on the findings from the car pricing analysis, here are recommended next steps for further data analysis:\n",
    "#1. Feature Importance Analysis:Conduct a comprehensive feature importance analysis to quantify the impact of each variable on car prices. This analysis can help prioritize features and guide marketing and production decisions.\n",
    "#2. Time-Series Analysis:Explore time-series analysis to identify temporal trends in car pricing. This can help forecast future pricing dynamics and inform inventory management strategies.\n",
    "#3. Market Segmentation Analysis:Further segment the market based on additional factors such as customer demographics, buying behavior, and vehicle usage patterns. Understanding different customer segments can lead to targeted marketing strategies.\n",
    "#4. Machine Learning Models:Implement advanced machine learning models, such as gradient boosting, random forests, or neural networks, to improve price prediction accuracy and capture nonlinear relationships.\n",
    "#5. Price Elasticity Analysis:Analyze price elasticity to understand how changes in pricing impact demand. This can inform pricing strategies and revenue optimization.\n",
    "#6. Data Visualization: Create interactive data visualizations and dashboards to enable stakeholders to explore and interpret data easily.\n",
    "#7. Competitive Benchmarking: Continuously benchmark your pricing and inventory against competitors to stay competitive and adjust strategies accordingly.\n"
   ]
  }
 ],
 "metadata": {
  "kernelspec": {
   "display_name": "Python 3 (ipykernel)",
   "language": "python",
   "name": "python3"
  },
  "language_info": {
   "codemirror_mode": {
    "name": "ipython",
    "version": 3
   },
   "file_extension": ".py",
   "mimetype": "text/x-python",
   "name": "python",
   "nbconvert_exporter": "python",
   "pygments_lexer": "ipython3",
   "version": "3.10.9"
  },
  "widgets": {
   "application/vnd.jupyter.widget-state+json": {
    "state": {},
    "version_major": 2,
    "version_minor": 0
   }
  }
 },
 "nbformat": 4,
 "nbformat_minor": 4
}
